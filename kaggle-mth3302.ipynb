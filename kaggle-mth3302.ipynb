{
 "cells": [
  {
   "cell_type": "markdown",
   "id": "49be2440-1836-4a29-a11d-ce569ee1f8b2",
   "metadata": {},
   "source": [
    "# Prédiction de la consommation en carburant de voitures récentes.\r\n"
   ]
  },
  {
   "cell_type": "markdown",
   "id": "b28dfc44-6919-4c83-b211-62344ca182c9",
   "metadata": {},
   "source": [
    "### Rouler cette cellule pour installer les packages necessaires"
   ]
  },
  {
   "cell_type": "code",
   "execution_count": 89,
   "id": "bd2bb602-5ee0-4b36-9f7e-d5a71ffb2849",
   "metadata": {},
   "outputs": [
    {
     "name": "stderr",
     "output_type": "stream",
     "text": [
      "\u001b[32m\u001b[1m   Resolving\u001b[22m\u001b[39m package versions...\n",
      "\u001b[32m\u001b[1m    Updating\u001b[22m\u001b[39m `C:\\Users\\Dimi\\.julia\\environments\\v1.10\\Project.toml`\n",
      "  \u001b[90m[324d7699] \u001b[39m\u001b[92m+ CategoricalArrays v0.10.8\u001b[39m\n",
      "\u001b[33m⌅\u001b[39m \u001b[90m[2913bbd2] \u001b[39m\u001b[92m+ StatsBase v0.33.21\u001b[39m\n",
      "  \u001b[90m[10745b16] \u001b[39m\u001b[92m+ Statistics v1.10.0\u001b[39m\n",
      "\u001b[32m\u001b[1m  No Changes\u001b[22m\u001b[39m to `C:\\Users\\Dimi\\.julia\\environments\\v1.10\\Manifest.toml`\n"
     ]
    }
   ],
   "source": [
    "using Pkg\n",
    "\n",
    "Pkg.add([\n",
    "    \"CSV\",                # Pour charger les fichiers CSV\n",
    "    \"DataFrames\",         # Pour utiliser la structure DataFrame pour stocker les données\n",
    "    \"Distributions\",      # Pour utiliser les lois de probabilités classiques\n",
    "    \"Gadfly\",             # Pour tracer des graphiques\n",
    "    \"Statistics\",         # Pour les fonctions statistiques de base\n",
    "    \"MLJ\",                # Pour le machine learning\n",
    "    \"CategoricalArrays\",  # Pour manipuler les données catégorielles\n",
    "    \"StatsBase\"           # Pour les fonctions statistiques avancées\n",
    "])"
   ]
  },
  {
   "cell_type": "markdown",
   "id": "426b2b3c-3057-47f4-b1c8-5b1013397db5",
   "metadata": {},
   "source": [
    "### Importation de librairies"
   ]
  },
  {
   "cell_type": "code",
   "execution_count": 90,
   "id": "2236a02f-0184-403d-bd68-d2a81523b773",
   "metadata": {},
   "outputs": [],
   "source": [
    "using CSV              # Pour charger les fichiers CSV\n",
    "using DataFrames       # Pour utiliser la structure DataFrame pour stocker les données\n",
    "using Distributions    # Pour utiliser les lois de probabilités classiques\n",
    "using Gadfly           # Pour tracer des graphiques\n",
    "using Statistics       # Pour les functions statistiques de base\n",
    "using MLJ\n",
    "using CategoricalArrays\n",
    "using StatsBase"
   ]
  },
  {
   "cell_type": "markdown",
   "id": "1ba32d51-05e2-46f8-a49a-9fc5b0b8b2d0",
   "metadata": {},
   "source": [
    "### Chargement des données train et test"
   ]
  },
  {
   "cell_type": "code",
   "execution_count": 92,
   "id": "c6d8a876-e769-4776-8140-9ff055141cf4",
   "metadata": {},
   "outputs": [],
   "source": [
    "train_data = CSV.read(\"train.csv\", DataFrame);\n",
    "test_data = CSV.read(\"test.csv\", DataFrame);"
   ]
  },
  {
   "cell_type": "code",
   "execution_count": 93,
   "id": "23a6080b-af00-4046-815c-54e3ffd4001c",
   "metadata": {},
   "outputs": [
    {
     "data": {
      "text/html": [
       "<div><div style = \"float: left;\"><span>10×7 DataFrame</span></div><div style = \"clear: both;\"></div></div><div class = \"data-frame\" style = \"overflow-x: scroll;\"><table class = \"data-frame\" style = \"margin-bottom: 6px;\"><thead><tr class = \"header\"><th class = \"rowNumber\" style = \"font-weight: bold; text-align: right;\">Row</th><th style = \"text-align: left;\">annee</th><th style = \"text-align: left;\">type</th><th style = \"text-align: left;\">nombre_cylindres</th><th style = \"text-align: left;\">cylindree</th><th style = \"text-align: left;\">transmission</th><th style = \"text-align: left;\">boite</th><th style = \"text-align: left;\">consommation</th></tr><tr class = \"subheader headerLastRow\"><th class = \"rowNumber\" style = \"font-weight: bold; text-align: right;\"></th><th title = \"Int64\" style = \"text-align: left;\">Int64</th><th title = \"String31\" style = \"text-align: left;\">String31</th><th title = \"Int64\" style = \"text-align: left;\">Int64</th><th title = \"String3\" style = \"text-align: left;\">String3</th><th title = \"String15\" style = \"text-align: left;\">String15</th><th title = \"String15\" style = \"text-align: left;\">String15</th><th title = \"String31\" style = \"text-align: left;\">String31</th></tr></thead><tbody><tr><td class = \"rowNumber\" style = \"font-weight: bold; text-align: right;\">1</td><td style = \"text-align: right;\">2023</td><td style = \"text-align: left;\">voiture_moyenne</td><td style = \"text-align: right;\">8</td><td style = \"text-align: left;\">4,4</td><td style = \"text-align: left;\">integrale</td><td style = \"text-align: left;\">automatique</td><td style = \"text-align: left;\">13,8358823529412</td></tr><tr><td class = \"rowNumber\" style = \"font-weight: bold; text-align: right;\">2</td><td style = \"text-align: right;\">2020</td><td style = \"text-align: left;\">VUS_petit</td><td style = \"text-align: right;\">4</td><td style = \"text-align: left;\">2</td><td style = \"text-align: left;\">integrale</td><td style = \"text-align: left;\">automatique</td><td style = \"text-align: left;\">9,80041666666667</td></tr><tr><td class = \"rowNumber\" style = \"font-weight: bold; text-align: right;\">3</td><td style = \"text-align: right;\">2021</td><td style = \"text-align: left;\">voiture_compacte</td><td style = \"text-align: right;\">6</td><td style = \"text-align: left;\">3,3</td><td style = \"text-align: left;\">propulsion</td><td style = \"text-align: left;\">automatique</td><td style = \"text-align: left;\">11,7605</td></tr><tr><td class = \"rowNumber\" style = \"font-weight: bold; text-align: right;\">4</td><td style = \"text-align: right;\">2023</td><td style = \"text-align: left;\">voiture_deux_places</td><td style = \"text-align: right;\">8</td><td style = \"text-align: left;\">5</td><td style = \"text-align: left;\">integrale</td><td style = \"text-align: left;\">automatique</td><td style = \"text-align: left;\">13,0672222222222</td></tr><tr><td class = \"rowNumber\" style = \"font-weight: bold; text-align: right;\">5</td><td style = \"text-align: right;\">2022</td><td style = \"text-align: left;\">voiture_moyenne</td><td style = \"text-align: right;\">8</td><td style = \"text-align: left;\">4,4</td><td style = \"text-align: left;\">integrale</td><td style = \"text-align: left;\">automatique</td><td style = \"text-align: left;\">13,8358823529412</td></tr><tr><td class = \"rowNumber\" style = \"font-weight: bold; text-align: right;\">6</td><td style = \"text-align: right;\">2022</td><td style = \"text-align: left;\">voiture_moyenne</td><td style = \"text-align: right;\">8</td><td style = \"text-align: left;\">4,4</td><td style = \"text-align: left;\">integrale</td><td style = \"text-align: left;\">automatique</td><td style = \"text-align: left;\">13,8358823529412</td></tr><tr><td class = \"rowNumber\" style = \"font-weight: bold; text-align: right;\">7</td><td style = \"text-align: right;\">2022</td><td style = \"text-align: left;\">voiture_minicompacte</td><td style = \"text-align: right;\">3</td><td style = \"text-align: left;\">1,5</td><td style = \"text-align: left;\">traction</td><td style = \"text-align: left;\">automatique</td><td style = \"text-align: left;\">7,3503125</td></tr><tr><td class = \"rowNumber\" style = \"font-weight: bold; text-align: right;\">8</td><td style = \"text-align: right;\">2024</td><td style = \"text-align: left;\">voiture_minicompacte</td><td style = \"text-align: right;\">3</td><td style = \"text-align: left;\">1,5</td><td style = \"text-align: left;\">traction</td><td style = \"text-align: left;\">manuelle</td><td style = \"text-align: left;\">7,58741935483871</td></tr><tr><td class = \"rowNumber\" style = \"font-weight: bold; text-align: right;\">9</td><td style = \"text-align: right;\">2020</td><td style = \"text-align: left;\">VUS_standard</td><td style = \"text-align: right;\">6</td><td style = \"text-align: left;\">3,8</td><td style = \"text-align: left;\">integrale</td><td style = \"text-align: left;\">automatique</td><td style = \"text-align: left;\">11,2004761904762</td></tr><tr><td class = \"rowNumber\" style = \"font-weight: bold; text-align: right;\">10</td><td style = \"text-align: right;\">2019</td><td style = \"text-align: left;\">voiture_compacte</td><td style = \"text-align: right;\">6</td><td style = \"text-align: left;\">3,3</td><td style = \"text-align: left;\">propulsion</td><td style = \"text-align: left;\">automatique</td><td style = \"text-align: left;\">11,7605</td></tr></tbody></table></div>"
      ],
      "text/latex": [
       "\\begin{tabular}{r|ccccccc}\n",
       "\t& annee & type & nombre\\_cylindres & cylindree & transmission & boite & \\\\\n",
       "\t\\hline\n",
       "\t& Int64 & String31 & Int64 & String3 & String15 & String15 & \\\\\n",
       "\t\\hline\n",
       "\t1 & 2023 & voiture\\_moyenne & 8 & 4,4 & integrale & automatique & $\\dots$ \\\\\n",
       "\t2 & 2020 & VUS\\_petit & 4 & 2 & integrale & automatique & $\\dots$ \\\\\n",
       "\t3 & 2021 & voiture\\_compacte & 6 & 3,3 & propulsion & automatique & $\\dots$ \\\\\n",
       "\t4 & 2023 & voiture\\_deux\\_places & 8 & 5 & integrale & automatique & $\\dots$ \\\\\n",
       "\t5 & 2022 & voiture\\_moyenne & 8 & 4,4 & integrale & automatique & $\\dots$ \\\\\n",
       "\t6 & 2022 & voiture\\_moyenne & 8 & 4,4 & integrale & automatique & $\\dots$ \\\\\n",
       "\t7 & 2022 & voiture\\_minicompacte & 3 & 1,5 & traction & automatique & $\\dots$ \\\\\n",
       "\t8 & 2024 & voiture\\_minicompacte & 3 & 1,5 & traction & manuelle & $\\dots$ \\\\\n",
       "\t9 & 2020 & VUS\\_standard & 6 & 3,8 & integrale & automatique & $\\dots$ \\\\\n",
       "\t10 & 2019 & voiture\\_compacte & 6 & 3,3 & propulsion & automatique & $\\dots$ \\\\\n",
       "\\end{tabular}\n"
      ],
      "text/plain": [
       "\u001b[1m10×7 DataFrame\u001b[0m\n",
       "\u001b[1m Row \u001b[0m│\u001b[1m annee \u001b[0m\u001b[1m type                 \u001b[0m\u001b[1m nombre_cylindres \u001b[0m\u001b[1m cylindree \u001b[0m\u001b[1m transmission \u001b[0m\u001b[1m\u001b[0m ⋯\n",
       "     │\u001b[90m Int64 \u001b[0m\u001b[90m String31             \u001b[0m\u001b[90m Int64            \u001b[0m\u001b[90m String3   \u001b[0m\u001b[90m String15     \u001b[0m\u001b[90m\u001b[0m ⋯\n",
       "─────┼──────────────────────────────────────────────────────────────────────────\n",
       "   1 │  2023  voiture_moyenne                      8  4,4        integrale     ⋯\n",
       "   2 │  2020  VUS_petit                            4  2          integrale\n",
       "   3 │  2021  voiture_compacte                     6  3,3        propulsion\n",
       "   4 │  2023  voiture_deux_places                  8  5          integrale\n",
       "   5 │  2022  voiture_moyenne                      8  4,4        integrale     ⋯\n",
       "   6 │  2022  voiture_moyenne                      8  4,4        integrale\n",
       "   7 │  2022  voiture_minicompacte                 3  1,5        traction\n",
       "   8 │  2024  voiture_minicompacte                 3  1,5        traction\n",
       "   9 │  2020  VUS_standard                         6  3,8        integrale     ⋯\n",
       "  10 │  2019  voiture_compacte                     6  3,3        propulsion\n",
       "\u001b[36m                                                               2 columns omitted\u001b[0m"
      ]
     },
     "execution_count": 93,
     "metadata": {},
     "output_type": "execute_result"
    }
   ],
   "source": [
    "first(train_data, 10)"
   ]
  },
  {
   "cell_type": "code",
   "execution_count": 94,
   "id": "519570ac-4186-4e5c-ad50-f26aad33429f",
   "metadata": {},
   "outputs": [
    {
     "data": {
      "text/html": [
       "<div><div style = \"float: left;\"><span>10×6 DataFrame</span></div><div style = \"clear: both;\"></div></div><div class = \"data-frame\" style = \"overflow-x: scroll;\"><table class = \"data-frame\" style = \"margin-bottom: 6px;\"><thead><tr class = \"header\"><th class = \"rowNumber\" style = \"font-weight: bold; text-align: right;\">Row</th><th style = \"text-align: left;\">annee</th><th style = \"text-align: left;\">type</th><th style = \"text-align: left;\">nombre_cylindres</th><th style = \"text-align: left;\">cylindree</th><th style = \"text-align: left;\">transmission</th><th style = \"text-align: left;\">boite</th></tr><tr class = \"subheader headerLastRow\"><th class = \"rowNumber\" style = \"font-weight: bold; text-align: right;\"></th><th title = \"Int64\" style = \"text-align: left;\">Int64</th><th title = \"String31\" style = \"text-align: left;\">String31</th><th title = \"Int64\" style = \"text-align: left;\">Int64</th><th title = \"String3\" style = \"text-align: left;\">String3</th><th title = \"String15\" style = \"text-align: left;\">String15</th><th title = \"String15\" style = \"text-align: left;\">String15</th></tr></thead><tbody><tr><td class = \"rowNumber\" style = \"font-weight: bold; text-align: right;\">1</td><td style = \"text-align: right;\">2014</td><td style = \"text-align: left;\">voiture_moyenne</td><td style = \"text-align: right;\">4</td><td style = \"text-align: left;\">2,5</td><td style = \"text-align: left;\">traction</td><td style = \"text-align: left;\">manuelle</td></tr><tr><td class = \"rowNumber\" style = \"font-weight: bold; text-align: right;\">2</td><td style = \"text-align: right;\">2014</td><td style = \"text-align: left;\">voiture_moyenne</td><td style = \"text-align: right;\">4</td><td style = \"text-align: left;\">2,5</td><td style = \"text-align: left;\">traction</td><td style = \"text-align: left;\">automatique</td></tr><tr><td class = \"rowNumber\" style = \"font-weight: bold; text-align: right;\">3</td><td style = \"text-align: right;\">2014</td><td style = \"text-align: left;\">VUS_petit</td><td style = \"text-align: right;\">4</td><td style = \"text-align: left;\">2,5</td><td style = \"text-align: left;\">traction</td><td style = \"text-align: left;\">automatique</td></tr><tr><td class = \"rowNumber\" style = \"font-weight: bold; text-align: right;\">4</td><td style = \"text-align: right;\">2014</td><td style = \"text-align: left;\">VUS_petit</td><td style = \"text-align: right;\">4</td><td style = \"text-align: left;\">2</td><td style = \"text-align: left;\">4x4</td><td style = \"text-align: left;\">automatique</td></tr><tr><td class = \"rowNumber\" style = \"font-weight: bold; text-align: right;\">5</td><td style = \"text-align: right;\">2014</td><td style = \"text-align: left;\">voiture_sous_compacte</td><td style = \"text-align: right;\">8</td><td style = \"text-align: left;\">5,8</td><td style = \"text-align: left;\">propulsion</td><td style = \"text-align: left;\">manuelle</td></tr><tr><td class = \"rowNumber\" style = \"font-weight: bold; text-align: right;\">6</td><td style = \"text-align: right;\">2014</td><td style = \"text-align: left;\">voiture_sous_compacte</td><td style = \"text-align: right;\">8</td><td style = \"text-align: left;\">5</td><td style = \"text-align: left;\">propulsion</td><td style = \"text-align: left;\">automatique</td></tr><tr><td class = \"rowNumber\" style = \"font-weight: bold; text-align: right;\">7</td><td style = \"text-align: right;\">2014</td><td style = \"text-align: left;\">voiture_sous_compacte</td><td style = \"text-align: right;\">8</td><td style = \"text-align: left;\">5</td><td style = \"text-align: left;\">propulsion</td><td style = \"text-align: left;\">manuelle</td></tr><tr><td class = \"rowNumber\" style = \"font-weight: bold; text-align: right;\">8</td><td style = \"text-align: right;\">2014</td><td style = \"text-align: left;\">VUS_petit</td><td style = \"text-align: right;\">4</td><td style = \"text-align: left;\">2,4</td><td style = \"text-align: left;\">4x4</td><td style = \"text-align: left;\">automatique</td></tr><tr><td class = \"rowNumber\" style = \"font-weight: bold; text-align: right;\">9</td><td style = \"text-align: right;\">2014</td><td style = \"text-align: left;\">VUS_petit</td><td style = \"text-align: right;\">6</td><td style = \"text-align: left;\">3,5</td><td style = \"text-align: left;\">integrale</td><td style = \"text-align: left;\">automatique</td></tr><tr><td class = \"rowNumber\" style = \"font-weight: bold; text-align: right;\">10</td><td style = \"text-align: right;\">2014</td><td style = \"text-align: left;\">voiture_deux_places</td><td style = \"text-align: right;\">10</td><td style = \"text-align: left;\">5,2</td><td style = \"text-align: left;\">integrale</td><td style = \"text-align: left;\">manuelle</td></tr></tbody></table></div>"
      ],
      "text/latex": [
       "\\begin{tabular}{r|cccccc}\n",
       "\t& annee & type & nombre\\_cylindres & cylindree & transmission & boite\\\\\n",
       "\t\\hline\n",
       "\t& Int64 & String31 & Int64 & String3 & String15 & String15\\\\\n",
       "\t\\hline\n",
       "\t1 & 2014 & voiture\\_moyenne & 4 & 2,5 & traction & manuelle \\\\\n",
       "\t2 & 2014 & voiture\\_moyenne & 4 & 2,5 & traction & automatique \\\\\n",
       "\t3 & 2014 & VUS\\_petit & 4 & 2,5 & traction & automatique \\\\\n",
       "\t4 & 2014 & VUS\\_petit & 4 & 2 & 4x4 & automatique \\\\\n",
       "\t5 & 2014 & voiture\\_sous\\_compacte & 8 & 5,8 & propulsion & manuelle \\\\\n",
       "\t6 & 2014 & voiture\\_sous\\_compacte & 8 & 5 & propulsion & automatique \\\\\n",
       "\t7 & 2014 & voiture\\_sous\\_compacte & 8 & 5 & propulsion & manuelle \\\\\n",
       "\t8 & 2014 & VUS\\_petit & 4 & 2,4 & 4x4 & automatique \\\\\n",
       "\t9 & 2014 & VUS\\_petit & 6 & 3,5 & integrale & automatique \\\\\n",
       "\t10 & 2014 & voiture\\_deux\\_places & 10 & 5,2 & integrale & manuelle \\\\\n",
       "\\end{tabular}\n"
      ],
      "text/plain": [
       "\u001b[1m10×6 DataFrame\u001b[0m\n",
       "\u001b[1m Row \u001b[0m│\u001b[1m annee \u001b[0m\u001b[1m type                  \u001b[0m\u001b[1m nombre_cylindres \u001b[0m\u001b[1m cylindree \u001b[0m\u001b[1m transmission\u001b[0m ⋯\n",
       "     │\u001b[90m Int64 \u001b[0m\u001b[90m String31              \u001b[0m\u001b[90m Int64            \u001b[0m\u001b[90m String3   \u001b[0m\u001b[90m String15    \u001b[0m ⋯\n",
       "─────┼──────────────────────────────────────────────────────────────────────────\n",
       "   1 │  2014  voiture_moyenne                       4  2,5        traction     ⋯\n",
       "   2 │  2014  voiture_moyenne                       4  2,5        traction\n",
       "   3 │  2014  VUS_petit                             4  2,5        traction\n",
       "   4 │  2014  VUS_petit                             4  2          4x4\n",
       "   5 │  2014  voiture_sous_compacte                 8  5,8        propulsion   ⋯\n",
       "   6 │  2014  voiture_sous_compacte                 8  5          propulsion\n",
       "   7 │  2014  voiture_sous_compacte                 8  5          propulsion\n",
       "   8 │  2014  VUS_petit                             4  2,4        4x4\n",
       "   9 │  2014  VUS_petit                             6  3,5        integrale    ⋯\n",
       "  10 │  2014  voiture_deux_places                  10  5,2        integrale\n",
       "\u001b[36m                                                                1 column omitted\u001b[0m"
      ]
     },
     "execution_count": 94,
     "metadata": {},
     "output_type": "execute_result"
    }
   ],
   "source": [
    "first(test_data, 10)"
   ]
  },
  {
   "cell_type": "code",
   "execution_count": 95,
   "id": "9bdb2388-d04f-462a-8c83-822938d7496d",
   "metadata": {},
   "outputs": [],
   "source": [
    "# Transformer les colonnes supposer etre numeric de String en Float pour les données train et test\n",
    "train_data.cylindree = parse.(Float64, replace.(train_data.cylindree, \",\" => \".\"));\n",
    "train_data.consommation = parse.(Float64, replace.(train_data.consommation, \",\" => \".\"));\n",
    "test_data.cylindree = parse.(Float64, replace.(test_data.cylindree, \",\" => \".\"));"
   ]
  },
  {
   "cell_type": "code",
   "execution_count": 96,
   "id": "e4acd11e-4e25-434f-be2e-333f55df5b34",
   "metadata": {},
   "outputs": [],
   "source": [
    "# categorical est utilisé pour encoder les variables catégorielles afin de les utiliser dans les modèles\n",
    "train_data.type = categorical(train_data.type);\n",
    "train_data.transmission = categorical(train_data.transmission);\n",
    "train_data.boite = categorical(train_data.boite);\n",
    "\n",
    "test_data.type = categorical(test_data.type);\n",
    "test_data.transmission = categorical(test_data.transmission);\n",
    "test_data.boite = categorical(test_data.boite);"
   ]
  },
  {
   "cell_type": "code",
   "execution_count": 97,
   "id": "228f7a37-7f8f-4bb6-be67-ccbc32ade38e",
   "metadata": {},
   "outputs": [
    {
     "data": {
      "text/html": [
       "<div><div style = \"float: left;\"><span>10×7 DataFrame</span></div><div style = \"clear: both;\"></div></div><div class = \"data-frame\" style = \"overflow-x: scroll;\"><table class = \"data-frame\" style = \"margin-bottom: 6px;\"><thead><tr class = \"header\"><th class = \"rowNumber\" style = \"font-weight: bold; text-align: right;\">Row</th><th style = \"text-align: left;\">annee</th><th style = \"text-align: left;\">type</th><th style = \"text-align: left;\">nombre_cylindres</th><th style = \"text-align: left;\">cylindree</th><th style = \"text-align: left;\">transmission</th><th style = \"text-align: left;\">boite</th><th style = \"text-align: left;\">consommation</th></tr><tr class = \"subheader headerLastRow\"><th class = \"rowNumber\" style = \"font-weight: bold; text-align: right;\"></th><th title = \"Int64\" style = \"text-align: left;\">Int64</th><th title = \"CategoricalValue{String31, UInt32}\" style = \"text-align: left;\">Cat…</th><th title = \"Int64\" style = \"text-align: left;\">Int64</th><th title = \"Float64\" style = \"text-align: left;\">Float64</th><th title = \"CategoricalValue{String15, UInt32}\" style = \"text-align: left;\">Cat…</th><th title = \"CategoricalValue{String15, UInt32}\" style = \"text-align: left;\">Cat…</th><th title = \"Float64\" style = \"text-align: left;\">Float64</th></tr></thead><tbody><tr><td class = \"rowNumber\" style = \"font-weight: bold; text-align: right;\">1</td><td style = \"text-align: right;\">2023</td><td style = \"text-align: left;\">voiture_moyenne</td><td style = \"text-align: right;\">8</td><td style = \"text-align: right;\">4.4</td><td style = \"text-align: left;\">integrale</td><td style = \"text-align: left;\">automatique</td><td style = \"text-align: right;\">13.8359</td></tr><tr><td class = \"rowNumber\" style = \"font-weight: bold; text-align: right;\">2</td><td style = \"text-align: right;\">2020</td><td style = \"text-align: left;\">VUS_petit</td><td style = \"text-align: right;\">4</td><td style = \"text-align: right;\">2.0</td><td style = \"text-align: left;\">integrale</td><td style = \"text-align: left;\">automatique</td><td style = \"text-align: right;\">9.80042</td></tr><tr><td class = \"rowNumber\" style = \"font-weight: bold; text-align: right;\">3</td><td style = \"text-align: right;\">2021</td><td style = \"text-align: left;\">voiture_compacte</td><td style = \"text-align: right;\">6</td><td style = \"text-align: right;\">3.3</td><td style = \"text-align: left;\">propulsion</td><td style = \"text-align: left;\">automatique</td><td style = \"text-align: right;\">11.7605</td></tr><tr><td class = \"rowNumber\" style = \"font-weight: bold; text-align: right;\">4</td><td style = \"text-align: right;\">2023</td><td style = \"text-align: left;\">voiture_deux_places</td><td style = \"text-align: right;\">8</td><td style = \"text-align: right;\">5.0</td><td style = \"text-align: left;\">integrale</td><td style = \"text-align: left;\">automatique</td><td style = \"text-align: right;\">13.0672</td></tr><tr><td class = \"rowNumber\" style = \"font-weight: bold; text-align: right;\">5</td><td style = \"text-align: right;\">2022</td><td style = \"text-align: left;\">voiture_moyenne</td><td style = \"text-align: right;\">8</td><td style = \"text-align: right;\">4.4</td><td style = \"text-align: left;\">integrale</td><td style = \"text-align: left;\">automatique</td><td style = \"text-align: right;\">13.8359</td></tr><tr><td class = \"rowNumber\" style = \"font-weight: bold; text-align: right;\">6</td><td style = \"text-align: right;\">2022</td><td style = \"text-align: left;\">voiture_moyenne</td><td style = \"text-align: right;\">8</td><td style = \"text-align: right;\">4.4</td><td style = \"text-align: left;\">integrale</td><td style = \"text-align: left;\">automatique</td><td style = \"text-align: right;\">13.8359</td></tr><tr><td class = \"rowNumber\" style = \"font-weight: bold; text-align: right;\">7</td><td style = \"text-align: right;\">2022</td><td style = \"text-align: left;\">voiture_minicompacte</td><td style = \"text-align: right;\">3</td><td style = \"text-align: right;\">1.5</td><td style = \"text-align: left;\">traction</td><td style = \"text-align: left;\">automatique</td><td style = \"text-align: right;\">7.35031</td></tr><tr><td class = \"rowNumber\" style = \"font-weight: bold; text-align: right;\">8</td><td style = \"text-align: right;\">2024</td><td style = \"text-align: left;\">voiture_minicompacte</td><td style = \"text-align: right;\">3</td><td style = \"text-align: right;\">1.5</td><td style = \"text-align: left;\">traction</td><td style = \"text-align: left;\">manuelle</td><td style = \"text-align: right;\">7.58742</td></tr><tr><td class = \"rowNumber\" style = \"font-weight: bold; text-align: right;\">9</td><td style = \"text-align: right;\">2020</td><td style = \"text-align: left;\">VUS_standard</td><td style = \"text-align: right;\">6</td><td style = \"text-align: right;\">3.8</td><td style = \"text-align: left;\">integrale</td><td style = \"text-align: left;\">automatique</td><td style = \"text-align: right;\">11.2005</td></tr><tr><td class = \"rowNumber\" style = \"font-weight: bold; text-align: right;\">10</td><td style = \"text-align: right;\">2019</td><td style = \"text-align: left;\">voiture_compacte</td><td style = \"text-align: right;\">6</td><td style = \"text-align: right;\">3.3</td><td style = \"text-align: left;\">propulsion</td><td style = \"text-align: left;\">automatique</td><td style = \"text-align: right;\">11.7605</td></tr></tbody></table></div>"
      ],
      "text/latex": [
       "\\begin{tabular}{r|ccccccc}\n",
       "\t& annee & type & nombre\\_cylindres & cylindree & transmission & boite & \\\\\n",
       "\t\\hline\n",
       "\t& Int64 & Cat… & Int64 & Float64 & Cat… & Cat… & \\\\\n",
       "\t\\hline\n",
       "\t1 & 2023 & voiture\\_moyenne & 8 & 4.4 & integrale & automatique & $\\dots$ \\\\\n",
       "\t2 & 2020 & VUS\\_petit & 4 & 2.0 & integrale & automatique & $\\dots$ \\\\\n",
       "\t3 & 2021 & voiture\\_compacte & 6 & 3.3 & propulsion & automatique & $\\dots$ \\\\\n",
       "\t4 & 2023 & voiture\\_deux\\_places & 8 & 5.0 & integrale & automatique & $\\dots$ \\\\\n",
       "\t5 & 2022 & voiture\\_moyenne & 8 & 4.4 & integrale & automatique & $\\dots$ \\\\\n",
       "\t6 & 2022 & voiture\\_moyenne & 8 & 4.4 & integrale & automatique & $\\dots$ \\\\\n",
       "\t7 & 2022 & voiture\\_minicompacte & 3 & 1.5 & traction & automatique & $\\dots$ \\\\\n",
       "\t8 & 2024 & voiture\\_minicompacte & 3 & 1.5 & traction & manuelle & $\\dots$ \\\\\n",
       "\t9 & 2020 & VUS\\_standard & 6 & 3.8 & integrale & automatique & $\\dots$ \\\\\n",
       "\t10 & 2019 & voiture\\_compacte & 6 & 3.3 & propulsion & automatique & $\\dots$ \\\\\n",
       "\\end{tabular}\n"
      ],
      "text/plain": [
       "\u001b[1m10×7 DataFrame\u001b[0m\n",
       "\u001b[1m Row \u001b[0m│\u001b[1m annee \u001b[0m\u001b[1m type                 \u001b[0m\u001b[1m nombre_cylindres \u001b[0m\u001b[1m cylindree \u001b[0m\u001b[1m transmission \u001b[0m\u001b[1m\u001b[0m ⋯\n",
       "     │\u001b[90m Int64 \u001b[0m\u001b[90m Cat…                 \u001b[0m\u001b[90m Int64            \u001b[0m\u001b[90m Float64   \u001b[0m\u001b[90m Categorical… \u001b[0m\u001b[90m\u001b[0m ⋯\n",
       "─────┼──────────────────────────────────────────────────────────────────────────\n",
       "   1 │  2023  voiture_moyenne                      8        4.4  integrale     ⋯\n",
       "   2 │  2020  VUS_petit                            4        2.0  integrale\n",
       "   3 │  2021  voiture_compacte                     6        3.3  propulsion\n",
       "   4 │  2023  voiture_deux_places                  8        5.0  integrale\n",
       "   5 │  2022  voiture_moyenne                      8        4.4  integrale     ⋯\n",
       "   6 │  2022  voiture_moyenne                      8        4.4  integrale\n",
       "   7 │  2022  voiture_minicompacte                 3        1.5  traction\n",
       "   8 │  2024  voiture_minicompacte                 3        1.5  traction\n",
       "   9 │  2020  VUS_standard                         6        3.8  integrale     ⋯\n",
       "  10 │  2019  voiture_compacte                     6        3.3  propulsion\n",
       "\u001b[36m                                                               2 columns omitted\u001b[0m"
      ]
     },
     "execution_count": 97,
     "metadata": {},
     "output_type": "execute_result"
    }
   ],
   "source": [
    "first(train_data, 10)"
   ]
  },
  {
   "cell_type": "code",
   "execution_count": 98,
   "id": "deebb0e4-35f9-4d6b-9118-2f4c889dbc4e",
   "metadata": {},
   "outputs": [
    {
     "data": {
      "text/html": [
       "<div><div style = \"float: left;\"><span>10×6 DataFrame</span></div><div style = \"clear: both;\"></div></div><div class = \"data-frame\" style = \"overflow-x: scroll;\"><table class = \"data-frame\" style = \"margin-bottom: 6px;\"><thead><tr class = \"header\"><th class = \"rowNumber\" style = \"font-weight: bold; text-align: right;\">Row</th><th style = \"text-align: left;\">annee</th><th style = \"text-align: left;\">type</th><th style = \"text-align: left;\">nombre_cylindres</th><th style = \"text-align: left;\">cylindree</th><th style = \"text-align: left;\">transmission</th><th style = \"text-align: left;\">boite</th></tr><tr class = \"subheader headerLastRow\"><th class = \"rowNumber\" style = \"font-weight: bold; text-align: right;\"></th><th title = \"Int64\" style = \"text-align: left;\">Int64</th><th title = \"CategoricalValue{String31, UInt32}\" style = \"text-align: left;\">Cat…</th><th title = \"Int64\" style = \"text-align: left;\">Int64</th><th title = \"Float64\" style = \"text-align: left;\">Float64</th><th title = \"CategoricalValue{String15, UInt32}\" style = \"text-align: left;\">Cat…</th><th title = \"CategoricalValue{String15, UInt32}\" style = \"text-align: left;\">Cat…</th></tr></thead><tbody><tr><td class = \"rowNumber\" style = \"font-weight: bold; text-align: right;\">1</td><td style = \"text-align: right;\">2014</td><td style = \"text-align: left;\">voiture_moyenne</td><td style = \"text-align: right;\">4</td><td style = \"text-align: right;\">2.5</td><td style = \"text-align: left;\">traction</td><td style = \"text-align: left;\">manuelle</td></tr><tr><td class = \"rowNumber\" style = \"font-weight: bold; text-align: right;\">2</td><td style = \"text-align: right;\">2014</td><td style = \"text-align: left;\">voiture_moyenne</td><td style = \"text-align: right;\">4</td><td style = \"text-align: right;\">2.5</td><td style = \"text-align: left;\">traction</td><td style = \"text-align: left;\">automatique</td></tr><tr><td class = \"rowNumber\" style = \"font-weight: bold; text-align: right;\">3</td><td style = \"text-align: right;\">2014</td><td style = \"text-align: left;\">VUS_petit</td><td style = \"text-align: right;\">4</td><td style = \"text-align: right;\">2.5</td><td style = \"text-align: left;\">traction</td><td style = \"text-align: left;\">automatique</td></tr><tr><td class = \"rowNumber\" style = \"font-weight: bold; text-align: right;\">4</td><td style = \"text-align: right;\">2014</td><td style = \"text-align: left;\">VUS_petit</td><td style = \"text-align: right;\">4</td><td style = \"text-align: right;\">2.0</td><td style = \"text-align: left;\">4x4</td><td style = \"text-align: left;\">automatique</td></tr><tr><td class = \"rowNumber\" style = \"font-weight: bold; text-align: right;\">5</td><td style = \"text-align: right;\">2014</td><td style = \"text-align: left;\">voiture_sous_compacte</td><td style = \"text-align: right;\">8</td><td style = \"text-align: right;\">5.8</td><td style = \"text-align: left;\">propulsion</td><td style = \"text-align: left;\">manuelle</td></tr><tr><td class = \"rowNumber\" style = \"font-weight: bold; text-align: right;\">6</td><td style = \"text-align: right;\">2014</td><td style = \"text-align: left;\">voiture_sous_compacte</td><td style = \"text-align: right;\">8</td><td style = \"text-align: right;\">5.0</td><td style = \"text-align: left;\">propulsion</td><td style = \"text-align: left;\">automatique</td></tr><tr><td class = \"rowNumber\" style = \"font-weight: bold; text-align: right;\">7</td><td style = \"text-align: right;\">2014</td><td style = \"text-align: left;\">voiture_sous_compacte</td><td style = \"text-align: right;\">8</td><td style = \"text-align: right;\">5.0</td><td style = \"text-align: left;\">propulsion</td><td style = \"text-align: left;\">manuelle</td></tr><tr><td class = \"rowNumber\" style = \"font-weight: bold; text-align: right;\">8</td><td style = \"text-align: right;\">2014</td><td style = \"text-align: left;\">VUS_petit</td><td style = \"text-align: right;\">4</td><td style = \"text-align: right;\">2.4</td><td style = \"text-align: left;\">4x4</td><td style = \"text-align: left;\">automatique</td></tr><tr><td class = \"rowNumber\" style = \"font-weight: bold; text-align: right;\">9</td><td style = \"text-align: right;\">2014</td><td style = \"text-align: left;\">VUS_petit</td><td style = \"text-align: right;\">6</td><td style = \"text-align: right;\">3.5</td><td style = \"text-align: left;\">integrale</td><td style = \"text-align: left;\">automatique</td></tr><tr><td class = \"rowNumber\" style = \"font-weight: bold; text-align: right;\">10</td><td style = \"text-align: right;\">2014</td><td style = \"text-align: left;\">voiture_deux_places</td><td style = \"text-align: right;\">10</td><td style = \"text-align: right;\">5.2</td><td style = \"text-align: left;\">integrale</td><td style = \"text-align: left;\">manuelle</td></tr></tbody></table></div>"
      ],
      "text/latex": [
       "\\begin{tabular}{r|cccccc}\n",
       "\t& annee & type & nombre\\_cylindres & cylindree & transmission & boite\\\\\n",
       "\t\\hline\n",
       "\t& Int64 & Cat… & Int64 & Float64 & Cat… & Cat…\\\\\n",
       "\t\\hline\n",
       "\t1 & 2014 & voiture\\_moyenne & 4 & 2.5 & traction & manuelle \\\\\n",
       "\t2 & 2014 & voiture\\_moyenne & 4 & 2.5 & traction & automatique \\\\\n",
       "\t3 & 2014 & VUS\\_petit & 4 & 2.5 & traction & automatique \\\\\n",
       "\t4 & 2014 & VUS\\_petit & 4 & 2.0 & 4x4 & automatique \\\\\n",
       "\t5 & 2014 & voiture\\_sous\\_compacte & 8 & 5.8 & propulsion & manuelle \\\\\n",
       "\t6 & 2014 & voiture\\_sous\\_compacte & 8 & 5.0 & propulsion & automatique \\\\\n",
       "\t7 & 2014 & voiture\\_sous\\_compacte & 8 & 5.0 & propulsion & manuelle \\\\\n",
       "\t8 & 2014 & VUS\\_petit & 4 & 2.4 & 4x4 & automatique \\\\\n",
       "\t9 & 2014 & VUS\\_petit & 6 & 3.5 & integrale & automatique \\\\\n",
       "\t10 & 2014 & voiture\\_deux\\_places & 10 & 5.2 & integrale & manuelle \\\\\n",
       "\\end{tabular}\n"
      ],
      "text/plain": [
       "\u001b[1m10×6 DataFrame\u001b[0m\n",
       "\u001b[1m Row \u001b[0m│\u001b[1m annee \u001b[0m\u001b[1m type                  \u001b[0m\u001b[1m nombre_cylindres \u001b[0m\u001b[1m cylindree \u001b[0m\u001b[1m transmission\u001b[0m ⋯\n",
       "     │\u001b[90m Int64 \u001b[0m\u001b[90m Cat…                  \u001b[0m\u001b[90m Int64            \u001b[0m\u001b[90m Float64   \u001b[0m\u001b[90m Categorical…\u001b[0m ⋯\n",
       "─────┼──────────────────────────────────────────────────────────────────────────\n",
       "   1 │  2014  voiture_moyenne                       4        2.5  traction     ⋯\n",
       "   2 │  2014  voiture_moyenne                       4        2.5  traction\n",
       "   3 │  2014  VUS_petit                             4        2.5  traction\n",
       "   4 │  2014  VUS_petit                             4        2.0  4x4\n",
       "   5 │  2014  voiture_sous_compacte                 8        5.8  propulsion   ⋯\n",
       "   6 │  2014  voiture_sous_compacte                 8        5.0  propulsion\n",
       "   7 │  2014  voiture_sous_compacte                 8        5.0  propulsion\n",
       "   8 │  2014  VUS_petit                             4        2.4  4x4\n",
       "   9 │  2014  VUS_petit                             6        3.5  integrale    ⋯\n",
       "  10 │  2014  voiture_deux_places                  10        5.2  integrale\n",
       "\u001b[36m                                                                1 column omitted\u001b[0m"
      ]
     },
     "execution_count": 98,
     "metadata": {},
     "output_type": "execute_result"
    }
   ],
   "source": [
    "first(test_data, 10)"
   ]
  },
  {
   "cell_type": "code",
   "execution_count": null,
   "id": "c05b5fea-8717-4ec0-9988-9740c20ef11c",
   "metadata": {},
   "outputs": [],
   "source": []
  }
 ],
 "metadata": {
  "kernelspec": {
   "display_name": "Julia 1.10.4",
   "language": "julia",
   "name": "julia-1.10"
  },
  "language_info": {
   "file_extension": ".jl",
   "mimetype": "application/julia",
   "name": "julia",
   "version": "1.10.4"
  }
 },
 "nbformat": 4,
 "nbformat_minor": 5
}
