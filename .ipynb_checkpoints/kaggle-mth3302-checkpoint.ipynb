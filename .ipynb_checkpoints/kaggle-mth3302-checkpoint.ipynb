{
 "cells": [
  {
   "cell_type": "markdown",
   "id": "49be2440-1836-4a29-a11d-ce569ee1f8b2",
   "metadata": {},
   "source": [
    "# Prédiction de la consommation en carburant de voitures récentes.\n"
   ]
  },
  {
   "cell_type": "markdown",
   "id": "b28dfc44-6919-4c83-b211-62344ca182c9",
   "metadata": {},
   "source": [
    "### Rouler cette cellule pour installer les packages necessaires"
   ]
  },
  {
   "cell_type": "code",
   "execution_count": 45,
   "id": "bd2bb602-5ee0-4b36-9f7e-d5a71ffb2849",
   "metadata": {
    "scrolled": true
   },
   "outputs": [
    {
     "name": "stderr",
     "output_type": "stream",
     "text": [
      "\u001b[32m\u001b[1m   Resolving\u001b[22m\u001b[39m package versions...\n",
      "\u001b[32m\u001b[1m   Installed\u001b[22m\u001b[39m ManualMemory ───────────────────── v0.1.8\n",
      "\u001b[32m\u001b[1m   Installed\u001b[22m\u001b[39m CloseOpenIntervals ─────────────── v0.1.13\n",
      "\u001b[32m\u001b[1m   Installed\u001b[22m\u001b[39m SLEEFPirates ───────────────────── v0.6.43\n",
      "\u001b[32m\u001b[1m   Installed\u001b[22m\u001b[39m CPUSummary ─────────────────────── v0.2.6\n",
      "\u001b[32m\u001b[1m   Installed\u001b[22m\u001b[39m VectorizationBase ──────────────── v0.21.71\n",
      "\u001b[32m\u001b[1m   Installed\u001b[22m\u001b[39m ForceImport ────────────────────── v0.0.3\n",
      "\u001b[32m\u001b[1m   Installed\u001b[22m\u001b[39m ChainRules ─────────────────────── v1.72.1\n",
      "\u001b[32m\u001b[1m   Installed\u001b[22m\u001b[39m IfElse ─────────────────────────── v0.1.1\n",
      "\u001b[32m\u001b[1m   Installed\u001b[22m\u001b[39m StructArrays ───────────────────── v0.6.18\n",
      "\u001b[32m\u001b[1m   Installed\u001b[22m\u001b[39m LayoutPointers ─────────────────── v0.1.17\n",
      "\u001b[32m\u001b[1m   Installed\u001b[22m\u001b[39m HostCPUFeatures ────────────────── v0.1.17\n",
      "\u001b[32m\u001b[1m   Installed\u001b[22m\u001b[39m BitTwiddlingConvenienceFunctions ─ v0.1.6\n",
      "\u001b[32m\u001b[1m   Installed\u001b[22m\u001b[39m PolyesterWeave ─────────────────── v0.2.2\n",
      "\u001b[32m\u001b[1m   Installed\u001b[22m\u001b[39m IRTools ────────────────────────── v0.4.14\n",
      "\u001b[32m\u001b[1m   Installed\u001b[22m\u001b[39m Static ─────────────────────────── v0.8.9\n",
      "\u001b[32m\u001b[1m   Installed\u001b[22m\u001b[39m SparseInverseSubset ────────────── v0.1.2\n",
      "\u001b[32m\u001b[1m   Installed\u001b[22m\u001b[39m ZygoteRules ────────────────────── v0.2.5\n",
      "\u001b[32m\u001b[1m   Installed\u001b[22m\u001b[39m BetaML ─────────────────────────── v0.12.1\n",
      "\u001b[32m\u001b[1m   Installed\u001b[22m\u001b[39m CpuId ──────────────────────────── v0.3.0\n",
      "\u001b[32m\u001b[1m   Installed\u001b[22m\u001b[39m SIMDTypes ──────────────────────── v0.1.0\n",
      "\u001b[32m\u001b[1m   Installed\u001b[22m\u001b[39m ThreadingUtilities ─────────────── v0.5.2\n",
      "\u001b[32m\u001b[1m   Installed\u001b[22m\u001b[39m RealDot ────────────────────────── v0.1.0\n",
      "\u001b[32m\u001b[1m   Installed\u001b[22m\u001b[39m Zygote ─────────────────────────── v0.6.73\n",
      "\u001b[32m\u001b[1m   Installed\u001b[22m\u001b[39m LoopVectorization ──────────────── v0.12.171\n",
      "\u001b[32m\u001b[1m   Installed\u001b[22m\u001b[39m AbstractTrees ──────────────────── v0.4.5\n",
      "\u001b[32m\u001b[1m   Installed\u001b[22m\u001b[39m GPUArrays ──────────────────────── v8.8.1\n",
      "\u001b[32m\u001b[1m   Installed\u001b[22m\u001b[39m StaticArrayInterface ───────────── v1.6.0\n",
      "\u001b[32m\u001b[1m   Installed\u001b[22m\u001b[39m JLD2 ───────────────────────────── v0.4.53\n",
      "\u001b[32m\u001b[1m   Installed\u001b[22m\u001b[39m FileIO ─────────────────────────── v1.16.6\n",
      "\u001b[32m\u001b[1m    Updating\u001b[22m\u001b[39m `C:\\Users\\dimit\\.julia\\environments\\v1.6\\Project.toml`\n",
      " \u001b[90m [024491cd] \u001b[39m\u001b[92m+ BetaML v0.12.1\u001b[39m\n",
      "\u001b[32m\u001b[1m    Updating\u001b[22m\u001b[39m `C:\\Users\\dimit\\.julia\\environments\\v1.6\\Manifest.toml`\n",
      " \u001b[90m [1520ce14] \u001b[39m\u001b[92m+ AbstractTrees v0.4.5\u001b[39m\n",
      " \u001b[90m [024491cd] \u001b[39m\u001b[92m+ BetaML v0.12.1\u001b[39m\n",
      " \u001b[90m [62783981] \u001b[39m\u001b[92m+ BitTwiddlingConvenienceFunctions v0.1.6\u001b[39m\n",
      " \u001b[90m [2a0fbf3d] \u001b[39m\u001b[92m+ CPUSummary v0.2.6\u001b[39m\n",
      " \u001b[90m [082447d4] \u001b[39m\u001b[92m+ ChainRules v1.72.1\u001b[39m\n",
      " \u001b[90m [fb6a15b2] \u001b[39m\u001b[92m+ CloseOpenIntervals v0.1.13\u001b[39m\n",
      " \u001b[90m [adafc99b] \u001b[39m\u001b[92m+ CpuId v0.3.0\u001b[39m\n",
      " \u001b[90m [5789e2e9] \u001b[39m\u001b[92m+ FileIO v1.16.6\u001b[39m\n",
      " \u001b[90m [9dda63f9] \u001b[39m\u001b[92m+ ForceImport v0.0.3\u001b[39m\n",
      " \u001b[90m [0c68f7d7] \u001b[39m\u001b[92m+ GPUArrays v8.8.1\u001b[39m\n",
      " \u001b[90m [3e5b6fbb] \u001b[39m\u001b[92m+ HostCPUFeatures v0.1.17\u001b[39m\n",
      " \u001b[90m [7869d1d1] \u001b[39m\u001b[92m+ IRTools v0.4.14\u001b[39m\n",
      " \u001b[90m [615f187c] \u001b[39m\u001b[92m+ IfElse v0.1.1\u001b[39m\n",
      " \u001b[90m [033835bb] \u001b[39m\u001b[92m+ JLD2 v0.4.53\u001b[39m\n",
      " \u001b[90m [10f19ff3] \u001b[39m\u001b[92m+ LayoutPointers v0.1.17\u001b[39m\n",
      " \u001b[90m [bdcacae8] \u001b[39m\u001b[92m+ LoopVectorization v0.12.171\u001b[39m\n",
      " \u001b[90m [d125e4d3] \u001b[39m\u001b[92m+ ManualMemory v0.1.8\u001b[39m\n",
      " \u001b[90m [1d0040c9] \u001b[39m\u001b[92m+ PolyesterWeave v0.2.2\u001b[39m\n",
      " \u001b[90m [c1ae055f] \u001b[39m\u001b[92m+ RealDot v0.1.0\u001b[39m\n",
      " \u001b[90m [94e857df] \u001b[39m\u001b[92m+ SIMDTypes v0.1.0\u001b[39m\n",
      " \u001b[90m [476501e8] \u001b[39m\u001b[92m+ SLEEFPirates v0.6.43\u001b[39m\n",
      " \u001b[90m [dc90abb0] \u001b[39m\u001b[92m+ SparseInverseSubset v0.1.2\u001b[39m\n",
      " \u001b[90m [aedffcd0] \u001b[39m\u001b[92m+ Static v0.8.9\u001b[39m\n",
      " \u001b[90m [0d7ed370] \u001b[39m\u001b[92m+ StaticArrayInterface v1.6.0\u001b[39m\n",
      " \u001b[90m [09ab397b] \u001b[39m\u001b[92m+ StructArrays v0.6.18\u001b[39m\n",
      " \u001b[90m [8290d209] \u001b[39m\u001b[92m+ ThreadingUtilities v0.5.2\u001b[39m\n",
      " \u001b[90m [3d5dd08c] \u001b[39m\u001b[92m+ VectorizationBase v0.21.71\u001b[39m\n",
      " \u001b[90m [e88e6eb3] \u001b[39m\u001b[92m+ Zygote v0.6.73\u001b[39m\n",
      " \u001b[90m [700de1a5] \u001b[39m\u001b[92m+ ZygoteRules v0.2.5\u001b[39m\n",
      "\u001b[32m\u001b[1m    Building\u001b[22m\u001b[39m BetaML → `C:\\Users\\dimit\\.julia\\scratchspaces\\44cfe95a-1eb2-52ea-b672-e2afdf69b78f\\8333d4c6ba83914d4204fa9fcf2c0a5bc73fe99c\\build.log`\n",
      "\u001b[32m\u001b[1mPrecompiling\u001b[22m\u001b[39m project...\n",
      "\u001b[32m  ✓ \u001b[39m\u001b[90mSIMDTypes\u001b[39m\n",
      "\u001b[32m  ✓ \u001b[39m\u001b[90mForceImport\u001b[39m\n",
      "\u001b[32m  ✓ \u001b[39m\u001b[90mSparseInverseSubset\u001b[39m\n",
      "\u001b[32m  ✓ \u001b[39m\u001b[90mIfElse\u001b[39m\n",
      "\u001b[32m  ✓ \u001b[39m\u001b[90mManualMemory\u001b[39m\n",
      "\u001b[32m  ✓ \u001b[39m\u001b[90mCpuId\u001b[39m\n",
      "\u001b[32m  ✓ \u001b[39m\u001b[90mRealDot\u001b[39m\n",
      "\u001b[32m  ✓ \u001b[39m\u001b[90mAbstractTrees\u001b[39m\n",
      "\u001b[32m  ✓ \u001b[39m\u001b[90mFileIO\u001b[39m\n",
      "\u001b[32m  ✓ \u001b[39m\u001b[90mZygoteRules\u001b[39m\n",
      "\u001b[32m  ✓ \u001b[39m\u001b[90mThreadingUtilities\u001b[39m\n",
      "\u001b[32m  ✓ \u001b[39m\u001b[90mStatic\u001b[39m\n",
      "\u001b[32m  ✓ \u001b[39m\u001b[90mStructArrays\u001b[39m\n",
      "\u001b[32m  ✓ \u001b[39m\u001b[90mIRTools\u001b[39m\n",
      "\u001b[32m  ✓ \u001b[39m\u001b[90mGPUArrays\u001b[39m\n",
      "\u001b[32m  ✓ \u001b[39m\u001b[90mBitTwiddlingConvenienceFunctions\u001b[39m\n",
      "\u001b[32m  ✓ \u001b[39m\u001b[90mCPUSummary\u001b[39m\n",
      "\u001b[32m  ✓ \u001b[39m\u001b[90mHostCPUFeatures\u001b[39m\n",
      "\u001b[32m  ✓ \u001b[39m\u001b[90mPolyesterWeave\u001b[39m\n",
      "\u001b[32m  ✓ \u001b[39m\u001b[90mStaticArrayInterface\u001b[39m\n",
      "\u001b[32m  ✓ \u001b[39m\u001b[90mCloseOpenIntervals\u001b[39m\n",
      "\u001b[32m  ✓ \u001b[39m\u001b[90mLayoutPointers\u001b[39m\n",
      "\u001b[32m  ✓ \u001b[39m\u001b[90mChainRules\u001b[39m\n",
      "\u001b[32m  ✓ \u001b[39m\u001b[90mVectorizationBase\u001b[39m\n",
      "\u001b[32m  ✓ \u001b[39m\u001b[90mSLEEFPirates\u001b[39m\n",
      "\u001b[32m  ✓ \u001b[39m\u001b[90mJLD2\u001b[39m\n",
      "\u001b[32m  ✓ \u001b[39m\u001b[90mZygote\u001b[39m\n",
      "\u001b[32m  ✓ \u001b[39m\u001b[90mLoopVectorization\u001b[39m\n",
      "\u001b[32m  ✓ \u001b[39mBetaML\n",
      "  29 dependencies successfully precompiled in 77 seconds (197 already precompiled)\n"
     ]
    }
   ],
   "source": [
    "using Pkg\n",
    "\n",
    "Pkg.add([\n",
    "    \"CSV\",                # Pour charger les fichiers CSV\n",
    "    \"DataFrames\",         # Pour utiliser la structure DataFrame pour stocker les données\n",
    "    \"Distributions\",      # Pour utiliser les lois de probabilités classiques\n",
    "    \"Gadfly\",             # Pour tracer des graphiques\n",
    "    \"Statistics\",         # Pour les fonctions statistiques de base\n",
    "    \"LinearAlgebra\",\n",
    "    \"Random\"\n",
    "])"
   ]
  },
  {
   "cell_type": "markdown",
   "id": "426b2b3c-3057-47f4-b1c8-5b1013397db5",
   "metadata": {},
   "source": [
    "### Importation de librairies"
   ]
  },
  {
   "cell_type": "code",
   "execution_count": 467,
   "id": "2236a02f-0184-403d-bd68-d2a81523b773",
   "metadata": {},
   "outputs": [],
   "source": [
    "using CSV              # Pour charger les fichiers CSV\n",
    "using DataFrames       # Pour utiliser la structure DataFrame pour stocker les données\n",
    "using Distributions    # Pour utiliser les lois de probabilités classiques\n",
    "using Gadfly           # Pour tracer des graphiques\n",
    "using Statistics       # Pour les functions statistiques de base\n",
    "using LinearAlgebra\n",
    "using Random"
   ]
  },
  {
   "cell_type": "markdown",
   "id": "1ba32d51-05e2-46f8-a49a-9fc5b0b8b2d0",
   "metadata": {},
   "source": [
    "### Chargement des données train et test"
   ]
  },
  {
   "cell_type": "code",
   "execution_count": 468,
   "id": "c6d8a876-e769-4776-8140-9ff055141cf4",
   "metadata": {},
   "outputs": [],
   "source": [
    "train_data = CSV.read(\"train.csv\", DataFrame);\n",
    "test_data = CSV.read(\"test.csv\", DataFrame);"
   ]
  },
  {
   "cell_type": "code",
   "execution_count": 469,
   "id": "23a6080b-af00-4046-815c-54e3ffd4001c",
   "metadata": {},
   "outputs": [
    {
     "data": {
      "text/html": [
       "<div><div style = \"float: left;\"><span>10×7 DataFrame</span></div><div style = \"clear: both;\"></div></div><div class = \"data-frame\" style = \"overflow-x: scroll;\"><table class = \"data-frame\" style = \"margin-bottom: 6px;\"><thead><tr class = \"header\"><th class = \"rowNumber\" style = \"font-weight: bold; text-align: right;\">Row</th><th style = \"text-align: left;\">annee</th><th style = \"text-align: left;\">type</th><th style = \"text-align: left;\">nombre_cylindres</th><th style = \"text-align: left;\">cylindree</th><th style = \"text-align: left;\">transmission</th><th style = \"text-align: left;\">boite</th><th style = \"text-align: left;\">consommation</th></tr><tr class = \"subheader headerLastRow\"><th class = \"rowNumber\" style = \"font-weight: bold; text-align: right;\"></th><th title = \"Int64\" style = \"text-align: left;\">Int64</th><th title = \"String31\" style = \"text-align: left;\">String31</th><th title = \"Int64\" style = \"text-align: left;\">Int64</th><th title = \"String3\" style = \"text-align: left;\">String3</th><th title = \"String15\" style = \"text-align: left;\">String15</th><th title = \"String15\" style = \"text-align: left;\">String15</th><th title = \"String31\" style = \"text-align: left;\">String31</th></tr></thead><tbody><tr><td class = \"rowNumber\" style = \"font-weight: bold; text-align: right;\">1</td><td style = \"text-align: right;\">2023</td><td style = \"text-align: left;\">voiture_moyenne</td><td style = \"text-align: right;\">8</td><td style = \"text-align: left;\">4,4</td><td style = \"text-align: left;\">integrale</td><td style = \"text-align: left;\">automatique</td><td style = \"text-align: left;\">13,8358823529412</td></tr><tr><td class = \"rowNumber\" style = \"font-weight: bold; text-align: right;\">2</td><td style = \"text-align: right;\">2020</td><td style = \"text-align: left;\">VUS_petit</td><td style = \"text-align: right;\">4</td><td style = \"text-align: left;\">2</td><td style = \"text-align: left;\">integrale</td><td style = \"text-align: left;\">automatique</td><td style = \"text-align: left;\">9,80041666666667</td></tr><tr><td class = \"rowNumber\" style = \"font-weight: bold; text-align: right;\">3</td><td style = \"text-align: right;\">2021</td><td style = \"text-align: left;\">voiture_compacte</td><td style = \"text-align: right;\">6</td><td style = \"text-align: left;\">3,3</td><td style = \"text-align: left;\">propulsion</td><td style = \"text-align: left;\">automatique</td><td style = \"text-align: left;\">11,7605</td></tr><tr><td class = \"rowNumber\" style = \"font-weight: bold; text-align: right;\">4</td><td style = \"text-align: right;\">2023</td><td style = \"text-align: left;\">voiture_deux_places</td><td style = \"text-align: right;\">8</td><td style = \"text-align: left;\">5</td><td style = \"text-align: left;\">integrale</td><td style = \"text-align: left;\">automatique</td><td style = \"text-align: left;\">13,0672222222222</td></tr><tr><td class = \"rowNumber\" style = \"font-weight: bold; text-align: right;\">5</td><td style = \"text-align: right;\">2022</td><td style = \"text-align: left;\">voiture_moyenne</td><td style = \"text-align: right;\">8</td><td style = \"text-align: left;\">4,4</td><td style = \"text-align: left;\">integrale</td><td style = \"text-align: left;\">automatique</td><td style = \"text-align: left;\">13,8358823529412</td></tr><tr><td class = \"rowNumber\" style = \"font-weight: bold; text-align: right;\">6</td><td style = \"text-align: right;\">2022</td><td style = \"text-align: left;\">voiture_moyenne</td><td style = \"text-align: right;\">8</td><td style = \"text-align: left;\">4,4</td><td style = \"text-align: left;\">integrale</td><td style = \"text-align: left;\">automatique</td><td style = \"text-align: left;\">13,8358823529412</td></tr><tr><td class = \"rowNumber\" style = \"font-weight: bold; text-align: right;\">7</td><td style = \"text-align: right;\">2022</td><td style = \"text-align: left;\">voiture_minicompacte</td><td style = \"text-align: right;\">3</td><td style = \"text-align: left;\">1,5</td><td style = \"text-align: left;\">traction</td><td style = \"text-align: left;\">automatique</td><td style = \"text-align: left;\">7,3503125</td></tr><tr><td class = \"rowNumber\" style = \"font-weight: bold; text-align: right;\">8</td><td style = \"text-align: right;\">2024</td><td style = \"text-align: left;\">voiture_minicompacte</td><td style = \"text-align: right;\">3</td><td style = \"text-align: left;\">1,5</td><td style = \"text-align: left;\">traction</td><td style = \"text-align: left;\">manuelle</td><td style = \"text-align: left;\">7,58741935483871</td></tr><tr><td class = \"rowNumber\" style = \"font-weight: bold; text-align: right;\">9</td><td style = \"text-align: right;\">2020</td><td style = \"text-align: left;\">VUS_standard</td><td style = \"text-align: right;\">6</td><td style = \"text-align: left;\">3,8</td><td style = \"text-align: left;\">integrale</td><td style = \"text-align: left;\">automatique</td><td style = \"text-align: left;\">11,2004761904762</td></tr><tr><td class = \"rowNumber\" style = \"font-weight: bold; text-align: right;\">10</td><td style = \"text-align: right;\">2019</td><td style = \"text-align: left;\">voiture_compacte</td><td style = \"text-align: right;\">6</td><td style = \"text-align: left;\">3,3</td><td style = \"text-align: left;\">propulsion</td><td style = \"text-align: left;\">automatique</td><td style = \"text-align: left;\">11,7605</td></tr></tbody></table></div>"
      ],
      "text/latex": [
       "\\begin{tabular}{r|ccccccc}\n",
       "\t& annee & type & nombre\\_cylindres & cylindree & transmission & boite & \\\\\n",
       "\t\\hline\n",
       "\t& Int64 & String31 & Int64 & String3 & String15 & String15 & \\\\\n",
       "\t\\hline\n",
       "\t1 & 2023 & voiture\\_moyenne & 8 & 4,4 & integrale & automatique & $\\dots$ \\\\\n",
       "\t2 & 2020 & VUS\\_petit & 4 & 2 & integrale & automatique & $\\dots$ \\\\\n",
       "\t3 & 2021 & voiture\\_compacte & 6 & 3,3 & propulsion & automatique & $\\dots$ \\\\\n",
       "\t4 & 2023 & voiture\\_deux\\_places & 8 & 5 & integrale & automatique & $\\dots$ \\\\\n",
       "\t5 & 2022 & voiture\\_moyenne & 8 & 4,4 & integrale & automatique & $\\dots$ \\\\\n",
       "\t6 & 2022 & voiture\\_moyenne & 8 & 4,4 & integrale & automatique & $\\dots$ \\\\\n",
       "\t7 & 2022 & voiture\\_minicompacte & 3 & 1,5 & traction & automatique & $\\dots$ \\\\\n",
       "\t8 & 2024 & voiture\\_minicompacte & 3 & 1,5 & traction & manuelle & $\\dots$ \\\\\n",
       "\t9 & 2020 & VUS\\_standard & 6 & 3,8 & integrale & automatique & $\\dots$ \\\\\n",
       "\t10 & 2019 & voiture\\_compacte & 6 & 3,3 & propulsion & automatique & $\\dots$ \\\\\n",
       "\\end{tabular}\n"
      ],
      "text/plain": [
       "\u001b[1m10×7 DataFrame\u001b[0m\n",
       "\u001b[1m Row \u001b[0m│\u001b[1m annee \u001b[0m\u001b[1m type                 \u001b[0m\u001b[1m nombre_cylindres \u001b[0m\u001b[1m cylindree \u001b[0m\u001b[1m transmission \u001b[0m\u001b[1m\u001b[0m ⋯\n",
       "     │\u001b[90m Int64 \u001b[0m\u001b[90m String31             \u001b[0m\u001b[90m Int64            \u001b[0m\u001b[90m String3   \u001b[0m\u001b[90m String15     \u001b[0m\u001b[90m\u001b[0m ⋯\n",
       "─────┼──────────────────────────────────────────────────────────────────────────\n",
       "   1 │  2023  voiture_moyenne                      8  4,4        integrale     ⋯\n",
       "   2 │  2020  VUS_petit                            4  2          integrale\n",
       "   3 │  2021  voiture_compacte                     6  3,3        propulsion\n",
       "   4 │  2023  voiture_deux_places                  8  5          integrale\n",
       "   5 │  2022  voiture_moyenne                      8  4,4        integrale     ⋯\n",
       "   6 │  2022  voiture_moyenne                      8  4,4        integrale\n",
       "   7 │  2022  voiture_minicompacte                 3  1,5        traction\n",
       "   8 │  2024  voiture_minicompacte                 3  1,5        traction\n",
       "   9 │  2020  VUS_standard                         6  3,8        integrale     ⋯\n",
       "  10 │  2019  voiture_compacte                     6  3,3        propulsion\n",
       "\u001b[36m                                                               2 columns omitted\u001b[0m"
      ]
     },
     "execution_count": 469,
     "metadata": {},
     "output_type": "execute_result"
    }
   ],
   "source": [
    "first(train_data, 10)"
   ]
  },
  {
   "cell_type": "code",
   "execution_count": 470,
   "id": "519570ac-4186-4e5c-ad50-f26aad33429f",
   "metadata": {},
   "outputs": [
    {
     "data": {
      "text/html": [
       "<div><div style = \"float: left;\"><span>10×6 DataFrame</span></div><div style = \"clear: both;\"></div></div><div class = \"data-frame\" style = \"overflow-x: scroll;\"><table class = \"data-frame\" style = \"margin-bottom: 6px;\"><thead><tr class = \"header\"><th class = \"rowNumber\" style = \"font-weight: bold; text-align: right;\">Row</th><th style = \"text-align: left;\">annee</th><th style = \"text-align: left;\">type</th><th style = \"text-align: left;\">nombre_cylindres</th><th style = \"text-align: left;\">cylindree</th><th style = \"text-align: left;\">transmission</th><th style = \"text-align: left;\">boite</th></tr><tr class = \"subheader headerLastRow\"><th class = \"rowNumber\" style = \"font-weight: bold; text-align: right;\"></th><th title = \"Int64\" style = \"text-align: left;\">Int64</th><th title = \"String31\" style = \"text-align: left;\">String31</th><th title = \"Int64\" style = \"text-align: left;\">Int64</th><th title = \"String3\" style = \"text-align: left;\">String3</th><th title = \"String15\" style = \"text-align: left;\">String15</th><th title = \"String15\" style = \"text-align: left;\">String15</th></tr></thead><tbody><tr><td class = \"rowNumber\" style = \"font-weight: bold; text-align: right;\">1</td><td style = \"text-align: right;\">2014</td><td style = \"text-align: left;\">voiture_moyenne</td><td style = \"text-align: right;\">4</td><td style = \"text-align: left;\">2,5</td><td style = \"text-align: left;\">traction</td><td style = \"text-align: left;\">manuelle</td></tr><tr><td class = \"rowNumber\" style = \"font-weight: bold; text-align: right;\">2</td><td style = \"text-align: right;\">2014</td><td style = \"text-align: left;\">voiture_moyenne</td><td style = \"text-align: right;\">4</td><td style = \"text-align: left;\">2,5</td><td style = \"text-align: left;\">traction</td><td style = \"text-align: left;\">automatique</td></tr><tr><td class = \"rowNumber\" style = \"font-weight: bold; text-align: right;\">3</td><td style = \"text-align: right;\">2014</td><td style = \"text-align: left;\">VUS_petit</td><td style = \"text-align: right;\">4</td><td style = \"text-align: left;\">2,5</td><td style = \"text-align: left;\">traction</td><td style = \"text-align: left;\">automatique</td></tr><tr><td class = \"rowNumber\" style = \"font-weight: bold; text-align: right;\">4</td><td style = \"text-align: right;\">2014</td><td style = \"text-align: left;\">VUS_petit</td><td style = \"text-align: right;\">4</td><td style = \"text-align: left;\">2</td><td style = \"text-align: left;\">4x4</td><td style = \"text-align: left;\">automatique</td></tr><tr><td class = \"rowNumber\" style = \"font-weight: bold; text-align: right;\">5</td><td style = \"text-align: right;\">2014</td><td style = \"text-align: left;\">voiture_sous_compacte</td><td style = \"text-align: right;\">8</td><td style = \"text-align: left;\">5,8</td><td style = \"text-align: left;\">propulsion</td><td style = \"text-align: left;\">manuelle</td></tr><tr><td class = \"rowNumber\" style = \"font-weight: bold; text-align: right;\">6</td><td style = \"text-align: right;\">2014</td><td style = \"text-align: left;\">voiture_sous_compacte</td><td style = \"text-align: right;\">8</td><td style = \"text-align: left;\">5</td><td style = \"text-align: left;\">propulsion</td><td style = \"text-align: left;\">automatique</td></tr><tr><td class = \"rowNumber\" style = \"font-weight: bold; text-align: right;\">7</td><td style = \"text-align: right;\">2014</td><td style = \"text-align: left;\">voiture_sous_compacte</td><td style = \"text-align: right;\">8</td><td style = \"text-align: left;\">5</td><td style = \"text-align: left;\">propulsion</td><td style = \"text-align: left;\">manuelle</td></tr><tr><td class = \"rowNumber\" style = \"font-weight: bold; text-align: right;\">8</td><td style = \"text-align: right;\">2014</td><td style = \"text-align: left;\">VUS_petit</td><td style = \"text-align: right;\">4</td><td style = \"text-align: left;\">2,4</td><td style = \"text-align: left;\">4x4</td><td style = \"text-align: left;\">automatique</td></tr><tr><td class = \"rowNumber\" style = \"font-weight: bold; text-align: right;\">9</td><td style = \"text-align: right;\">2014</td><td style = \"text-align: left;\">VUS_petit</td><td style = \"text-align: right;\">6</td><td style = \"text-align: left;\">3,5</td><td style = \"text-align: left;\">integrale</td><td style = \"text-align: left;\">automatique</td></tr><tr><td class = \"rowNumber\" style = \"font-weight: bold; text-align: right;\">10</td><td style = \"text-align: right;\">2014</td><td style = \"text-align: left;\">voiture_deux_places</td><td style = \"text-align: right;\">10</td><td style = \"text-align: left;\">5,2</td><td style = \"text-align: left;\">integrale</td><td style = \"text-align: left;\">manuelle</td></tr></tbody></table></div>"
      ],
      "text/latex": [
       "\\begin{tabular}{r|cccccc}\n",
       "\t& annee & type & nombre\\_cylindres & cylindree & transmission & boite\\\\\n",
       "\t\\hline\n",
       "\t& Int64 & String31 & Int64 & String3 & String15 & String15\\\\\n",
       "\t\\hline\n",
       "\t1 & 2014 & voiture\\_moyenne & 4 & 2,5 & traction & manuelle \\\\\n",
       "\t2 & 2014 & voiture\\_moyenne & 4 & 2,5 & traction & automatique \\\\\n",
       "\t3 & 2014 & VUS\\_petit & 4 & 2,5 & traction & automatique \\\\\n",
       "\t4 & 2014 & VUS\\_petit & 4 & 2 & 4x4 & automatique \\\\\n",
       "\t5 & 2014 & voiture\\_sous\\_compacte & 8 & 5,8 & propulsion & manuelle \\\\\n",
       "\t6 & 2014 & voiture\\_sous\\_compacte & 8 & 5 & propulsion & automatique \\\\\n",
       "\t7 & 2014 & voiture\\_sous\\_compacte & 8 & 5 & propulsion & manuelle \\\\\n",
       "\t8 & 2014 & VUS\\_petit & 4 & 2,4 & 4x4 & automatique \\\\\n",
       "\t9 & 2014 & VUS\\_petit & 6 & 3,5 & integrale & automatique \\\\\n",
       "\t10 & 2014 & voiture\\_deux\\_places & 10 & 5,2 & integrale & manuelle \\\\\n",
       "\\end{tabular}\n"
      ],
      "text/plain": [
       "\u001b[1m10×6 DataFrame\u001b[0m\n",
       "\u001b[1m Row \u001b[0m│\u001b[1m annee \u001b[0m\u001b[1m type                  \u001b[0m\u001b[1m nombre_cylindres \u001b[0m\u001b[1m cylindree \u001b[0m\u001b[1m transmission\u001b[0m ⋯\n",
       "     │\u001b[90m Int64 \u001b[0m\u001b[90m String31              \u001b[0m\u001b[90m Int64            \u001b[0m\u001b[90m String3   \u001b[0m\u001b[90m String15    \u001b[0m ⋯\n",
       "─────┼──────────────────────────────────────────────────────────────────────────\n",
       "   1 │  2014  voiture_moyenne                       4  2,5        traction     ⋯\n",
       "   2 │  2014  voiture_moyenne                       4  2,5        traction\n",
       "   3 │  2014  VUS_petit                             4  2,5        traction\n",
       "   4 │  2014  VUS_petit                             4  2          4x4\n",
       "   5 │  2014  voiture_sous_compacte                 8  5,8        propulsion   ⋯\n",
       "   6 │  2014  voiture_sous_compacte                 8  5          propulsion\n",
       "   7 │  2014  voiture_sous_compacte                 8  5          propulsion\n",
       "   8 │  2014  VUS_petit                             4  2,4        4x4\n",
       "   9 │  2014  VUS_petit                             6  3,5        integrale    ⋯\n",
       "  10 │  2014  voiture_deux_places                  10  5,2        integrale\n",
       "\u001b[36m                                                                1 column omitted\u001b[0m"
      ]
     },
     "execution_count": 470,
     "metadata": {},
     "output_type": "execute_result"
    }
   ],
   "source": [
    "first(test_data, 10)"
   ]
  },
  {
   "cell_type": "code",
   "execution_count": 471,
   "id": "9bdb2388-d04f-462a-8c83-822938d7496d",
   "metadata": {},
   "outputs": [],
   "source": [
    "# Transformer les colonnes supposer etre numeric de String en Float pour les données train et test\n",
    "train_data.cylindree = parse.(Float64, replace.(train_data.cylindree, \",\" => \".\"));\n",
    "train_data.consommation = parse.(Float64, replace.(train_data.consommation, \",\" => \".\"));\n",
    "test_data.cylindree = parse.(Float64, replace.(test_data.cylindree, \",\" => \".\"));"
   ]
  },
  {
   "cell_type": "code",
   "execution_count": 472,
   "id": "9d4bc7d4-5e52-459b-841d-584e613d4dac",
   "metadata": {},
   "outputs": [
    {
     "data": {
      "text/html": [
       "<div><div style = \"float: left;\"><span>150×3 DataFrame</span></div><div style = \"float: right;\"><span style = \"font-style: italic;\">125 rows omitted</span></div><div style = \"clear: both;\"></div></div><div class = \"data-frame\" style = \"overflow-x: scroll;\"><table class = \"data-frame\" style = \"margin-bottom: 6px;\"><thead><tr class = \"header\"><th class = \"rowNumber\" style = \"font-weight: bold; text-align: right;\">Row</th><th style = \"text-align: left;\">annee</th><th style = \"text-align: left;\">nombre_cylindres</th><th style = \"text-align: left;\">cylindree</th></tr><tr class = \"subheader headerLastRow\"><th class = \"rowNumber\" style = \"font-weight: bold; text-align: right;\"></th><th title = \"Int64\" style = \"text-align: left;\">Int64</th><th title = \"Int64\" style = \"text-align: left;\">Int64</th><th title = \"Float64\" style = \"text-align: left;\">Float64</th></tr></thead><tbody><tr><td class = \"rowNumber\" style = \"font-weight: bold; text-align: right;\">1</td><td style = \"text-align: right;\">2014</td><td style = \"text-align: right;\">4</td><td style = \"text-align: right;\">2.5</td></tr><tr><td class = \"rowNumber\" style = \"font-weight: bold; text-align: right;\">2</td><td style = \"text-align: right;\">2014</td><td style = \"text-align: right;\">4</td><td style = \"text-align: right;\">2.5</td></tr><tr><td class = \"rowNumber\" style = \"font-weight: bold; text-align: right;\">3</td><td style = \"text-align: right;\">2014</td><td style = \"text-align: right;\">4</td><td style = \"text-align: right;\">2.5</td></tr><tr><td class = \"rowNumber\" style = \"font-weight: bold; text-align: right;\">4</td><td style = \"text-align: right;\">2014</td><td style = \"text-align: right;\">4</td><td style = \"text-align: right;\">2.0</td></tr><tr><td class = \"rowNumber\" style = \"font-weight: bold; text-align: right;\">5</td><td style = \"text-align: right;\">2014</td><td style = \"text-align: right;\">8</td><td style = \"text-align: right;\">5.8</td></tr><tr><td class = \"rowNumber\" style = \"font-weight: bold; text-align: right;\">6</td><td style = \"text-align: right;\">2014</td><td style = \"text-align: right;\">8</td><td style = \"text-align: right;\">5.0</td></tr><tr><td class = \"rowNumber\" style = \"font-weight: bold; text-align: right;\">7</td><td style = \"text-align: right;\">2014</td><td style = \"text-align: right;\">8</td><td style = \"text-align: right;\">5.0</td></tr><tr><td class = \"rowNumber\" style = \"font-weight: bold; text-align: right;\">8</td><td style = \"text-align: right;\">2014</td><td style = \"text-align: right;\">4</td><td style = \"text-align: right;\">2.4</td></tr><tr><td class = \"rowNumber\" style = \"font-weight: bold; text-align: right;\">9</td><td style = \"text-align: right;\">2014</td><td style = \"text-align: right;\">6</td><td style = \"text-align: right;\">3.5</td></tr><tr><td class = \"rowNumber\" style = \"font-weight: bold; text-align: right;\">10</td><td style = \"text-align: right;\">2014</td><td style = \"text-align: right;\">10</td><td style = \"text-align: right;\">5.2</td></tr><tr><td class = \"rowNumber\" style = \"font-weight: bold; text-align: right;\">11</td><td style = \"text-align: right;\">2014</td><td style = \"text-align: right;\">10</td><td style = \"text-align: right;\">5.2</td></tr><tr><td class = \"rowNumber\" style = \"font-weight: bold; text-align: right;\">12</td><td style = \"text-align: right;\">2014</td><td style = \"text-align: right;\">12</td><td style = \"text-align: right;\">5.9</td></tr><tr><td class = \"rowNumber\" style = \"font-weight: bold; text-align: right;\">13</td><td style = \"text-align: right;\">2014</td><td style = \"text-align: right;\">4</td><td style = \"text-align: right;\">2.0</td></tr><tr><td style = \"text-align: right;\">&vellip;</td><td style = \"text-align: right;\">&vellip;</td><td style = \"text-align: right;\">&vellip;</td><td style = \"text-align: right;\">&vellip;</td></tr><tr><td class = \"rowNumber\" style = \"font-weight: bold; text-align: right;\">139</td><td style = \"text-align: right;\">2023</td><td style = \"text-align: right;\">4</td><td style = \"text-align: right;\">1.6</td></tr><tr><td class = \"rowNumber\" style = \"font-weight: bold; text-align: right;\">140</td><td style = \"text-align: right;\">2023</td><td style = \"text-align: right;\">6</td><td style = \"text-align: right;\">3.3</td></tr><tr><td class = \"rowNumber\" style = \"font-weight: bold; text-align: right;\">141</td><td style = \"text-align: right;\">2024</td><td style = \"text-align: right;\">8</td><td style = \"text-align: right;\">5.0</td></tr><tr><td class = \"rowNumber\" style = \"font-weight: bold; text-align: right;\">142</td><td style = \"text-align: right;\">2024</td><td style = \"text-align: right;\">4</td><td style = \"text-align: right;\">2.0</td></tr><tr><td class = \"rowNumber\" style = \"font-weight: bold; text-align: right;\">143</td><td style = \"text-align: right;\">2024</td><td style = \"text-align: right;\">4</td><td style = \"text-align: right;\">2.0</td></tr><tr><td class = \"rowNumber\" style = \"font-weight: bold; text-align: right;\">144</td><td style = \"text-align: right;\">2024</td><td style = \"text-align: right;\">4</td><td style = \"text-align: right;\">1.6</td></tr><tr><td class = \"rowNumber\" style = \"font-weight: bold; text-align: right;\">145</td><td style = \"text-align: right;\">2024</td><td style = \"text-align: right;\">4</td><td style = \"text-align: right;\">2.0</td></tr><tr><td class = \"rowNumber\" style = \"font-weight: bold; text-align: right;\">146</td><td style = \"text-align: right;\">2024</td><td style = \"text-align: right;\">4</td><td style = \"text-align: right;\">2.0</td></tr><tr><td class = \"rowNumber\" style = \"font-weight: bold; text-align: right;\">147</td><td style = \"text-align: right;\">2024</td><td style = \"text-align: right;\">6</td><td style = \"text-align: right;\">3.0</td></tr><tr><td class = \"rowNumber\" style = \"font-weight: bold; text-align: right;\">148</td><td style = \"text-align: right;\">2024</td><td style = \"text-align: right;\">6</td><td style = \"text-align: right;\">3.0</td></tr><tr><td class = \"rowNumber\" style = \"font-weight: bold; text-align: right;\">149</td><td style = \"text-align: right;\">2024</td><td style = \"text-align: right;\">3</td><td style = \"text-align: right;\">1.5</td></tr><tr><td class = \"rowNumber\" style = \"font-weight: bold; text-align: right;\">150</td><td style = \"text-align: right;\">2024</td><td style = \"text-align: right;\">4</td><td style = \"text-align: right;\">2.0</td></tr></tbody></table></div>"
      ],
      "text/latex": [
       "\\begin{tabular}{r|ccc}\n",
       "\t& annee & nombre\\_cylindres & cylindree\\\\\n",
       "\t\\hline\n",
       "\t& Int64 & Int64 & Float64\\\\\n",
       "\t\\hline\n",
       "\t1 & 2014 & 4 & 2.5 \\\\\n",
       "\t2 & 2014 & 4 & 2.5 \\\\\n",
       "\t3 & 2014 & 4 & 2.5 \\\\\n",
       "\t4 & 2014 & 4 & 2.0 \\\\\n",
       "\t5 & 2014 & 8 & 5.8 \\\\\n",
       "\t6 & 2014 & 8 & 5.0 \\\\\n",
       "\t7 & 2014 & 8 & 5.0 \\\\\n",
       "\t8 & 2014 & 4 & 2.4 \\\\\n",
       "\t9 & 2014 & 6 & 3.5 \\\\\n",
       "\t10 & 2014 & 10 & 5.2 \\\\\n",
       "\t11 & 2014 & 10 & 5.2 \\\\\n",
       "\t12 & 2014 & 12 & 5.9 \\\\\n",
       "\t13 & 2014 & 4 & 2.0 \\\\\n",
       "\t14 & 2014 & 4 & 2.4 \\\\\n",
       "\t15 & 2015 & 4 & 2.5 \\\\\n",
       "\t16 & 2015 & 6 & 3.0 \\\\\n",
       "\t17 & 2015 & 8 & 5.3 \\\\\n",
       "\t18 & 2015 & 8 & 5.3 \\\\\n",
       "\t19 & 2015 & 8 & 5.3 \\\\\n",
       "\t20 & 2015 & 8 & 5.3 \\\\\n",
       "\t21 & 2015 & 8 & 6.2 \\\\\n",
       "\t22 & 2015 & 8 & 5.3 \\\\\n",
       "\t23 & 2015 & 8 & 5.3 \\\\\n",
       "\t24 & 2015 & 8 & 6.2 \\\\\n",
       "\t25 & 2015 & 8 & 5.3 \\\\\n",
       "\t26 & 2015 & 8 & 6.2 \\\\\n",
       "\t27 & 2015 & 8 & 5.3 \\\\\n",
       "\t28 & 2015 & 8 & 6.2 \\\\\n",
       "\t29 & 2015 & 8 & 5.0 \\\\\n",
       "\t30 & 2015 & 6 & 3.0 \\\\\n",
       "\t$\\dots$ & $\\dots$ & $\\dots$ & $\\dots$ \\\\\n",
       "\\end{tabular}\n"
      ],
      "text/plain": [
       "\u001b[1m150×3 DataFrame\u001b[0m\n",
       "\u001b[1m Row \u001b[0m│\u001b[1m annee \u001b[0m\u001b[1m nombre_cylindres \u001b[0m\u001b[1m cylindree \u001b[0m\n",
       "     │\u001b[90m Int64 \u001b[0m\u001b[90m Int64            \u001b[0m\u001b[90m Float64   \u001b[0m\n",
       "─────┼────────────────────────────────────\n",
       "   1 │  2014                 4        2.5\n",
       "   2 │  2014                 4        2.5\n",
       "   3 │  2014                 4        2.5\n",
       "   4 │  2014                 4        2.0\n",
       "   5 │  2014                 8        5.8\n",
       "   6 │  2014                 8        5.0\n",
       "   7 │  2014                 8        5.0\n",
       "   8 │  2014                 4        2.4\n",
       "   9 │  2014                 6        3.5\n",
       "  10 │  2014                10        5.2\n",
       "  11 │  2014                10        5.2\n",
       "  ⋮  │   ⋮           ⋮              ⋮\n",
       " 141 │  2024                 8        5.0\n",
       " 142 │  2024                 4        2.0\n",
       " 143 │  2024                 4        2.0\n",
       " 144 │  2024                 4        1.6\n",
       " 145 │  2024                 4        2.0\n",
       " 146 │  2024                 4        2.0\n",
       " 147 │  2024                 6        3.0\n",
       " 148 │  2024                 6        3.0\n",
       " 149 │  2024                 3        1.5\n",
       " 150 │  2024                 4        2.0\n",
       "\u001b[36m                          129 rows omitted\u001b[0m"
      ]
     },
     "execution_count": 472,
     "metadata": {},
     "output_type": "execute_result"
    }
   ],
   "source": [
    "categorical_columns = [:type, :transmission, :boite]\n",
    "train_data = select(train_data, Not(categorical_columns))\n",
    "test_data = select(test_data, Not(categorical_columns))"
   ]
  },
  {
   "cell_type": "code",
   "execution_count": 473,
   "id": "8017f42a-1cfd-4513-b89d-0d88c67b3728",
   "metadata": {},
   "outputs": [
    {
     "data": {
      "text/plain": [
       "feature_engineering! (generic function with 1 method)"
      ]
     },
     "execution_count": 473,
     "metadata": {},
     "output_type": "execute_result"
    }
   ],
   "source": [
    "function feature_engineering!(df)\n",
    "    df[!, :cylindree_squared] = df[!, :cylindree] .^ 2\n",
    "    df[!, :annee_squared] = df[!, :annee] .^ 2\n",
    "    df[!, :log_cylindree] = log.(df[!, :cylindree] .+ 1e-6)\n",
    "    df[!, :cylindree_x_nombre_cylindres] = df[!, :cylindree] .* df[!, :nombre_cylindres]\n",
    "end"
   ]
  },
  {
   "cell_type": "code",
   "execution_count": 474,
   "id": "9963063e-1463-4f74-b6f1-d3f1e3fe1ce6",
   "metadata": {},
   "outputs": [
    {
     "data": {
      "text/plain": [
       "150-element Vector{Float64}:\n",
       " 10.0\n",
       " 10.0\n",
       " 10.0\n",
       "  8.0\n",
       " 46.4\n",
       " 40.0\n",
       " 40.0\n",
       "  9.6\n",
       " 21.0\n",
       " 52.0\n",
       " 52.0\n",
       " 70.80000000000001\n",
       "  8.0\n",
       "  ⋮\n",
       "  6.4\n",
       " 19.799999999999997\n",
       " 40.0\n",
       "  8.0\n",
       "  8.0\n",
       "  6.4\n",
       "  8.0\n",
       "  8.0\n",
       " 18.0\n",
       " 18.0\n",
       "  4.5\n",
       "  8.0"
      ]
     },
     "execution_count": 474,
     "metadata": {},
     "output_type": "execute_result"
    }
   ],
   "source": [
    "feature_engineering!(train_data)\n",
    "feature_engineering!(test_data)"
   ]
  },
  {
   "cell_type": "code",
   "execution_count": 475,
   "id": "a3870256-7db2-4536-b8f7-d013d0762871",
   "metadata": {},
   "outputs": [
    {
     "name": "stdout",
     "output_type": "stream",
     "text": [
      "\n",
      "Summary statistics of the training dataset:\n"
     ]
    },
    {
     "data": {
      "text/html": [
       "<div><div style = \"float: left;\"><span>8×7 DataFrame</span></div><div style = \"clear: both;\"></div></div><div class = \"data-frame\" style = \"overflow-x: scroll;\"><table class = \"data-frame\" style = \"margin-bottom: 6px;\"><thead><tr class = \"header\"><th class = \"rowNumber\" style = \"font-weight: bold; text-align: right;\">Row</th><th style = \"text-align: left;\">variable</th><th style = \"text-align: left;\">mean</th><th style = \"text-align: left;\">min</th><th style = \"text-align: left;\">median</th><th style = \"text-align: left;\">max</th><th style = \"text-align: left;\">nmissing</th><th style = \"text-align: left;\">eltype</th></tr><tr class = \"subheader headerLastRow\"><th class = \"rowNumber\" style = \"font-weight: bold; text-align: right;\"></th><th title = \"Symbol\" style = \"text-align: left;\">Symbol</th><th title = \"Float64\" style = \"text-align: left;\">Float64</th><th title = \"Real\" style = \"text-align: left;\">Real</th><th title = \"Float64\" style = \"text-align: left;\">Float64</th><th title = \"Real\" style = \"text-align: left;\">Real</th><th title = \"Int64\" style = \"text-align: left;\">Int64</th><th title = \"DataType\" style = \"text-align: left;\">DataType</th></tr></thead><tbody><tr><td class = \"rowNumber\" style = \"font-weight: bold; text-align: right;\">1</td><td style = \"text-align: left;\">annee</td><td style = \"text-align: right;\">2019.19</td><td style = \"text-align: right;\">2014</td><td style = \"text-align: right;\">2019.0</td><td style = \"text-align: right;\">2024</td><td style = \"text-align: right;\">0</td><td style = \"text-align: left;\">Int64</td></tr><tr><td class = \"rowNumber\" style = \"font-weight: bold; text-align: right;\">2</td><td style = \"text-align: left;\">nombre_cylindres</td><td style = \"text-align: right;\">5.28535</td><td style = \"text-align: right;\">3</td><td style = \"text-align: right;\">4.0</td><td style = \"text-align: right;\">12</td><td style = \"text-align: right;\">0</td><td style = \"text-align: left;\">Int64</td></tr><tr><td class = \"rowNumber\" style = \"font-weight: bold; text-align: right;\">3</td><td style = \"text-align: left;\">cylindree</td><td style = \"text-align: right;\">2.90303</td><td style = \"text-align: right;\">1.2</td><td style = \"text-align: right;\">2.5</td><td style = \"text-align: right;\">6.8</td><td style = \"text-align: right;\">0</td><td style = \"text-align: left;\">Float64</td></tr><tr><td class = \"rowNumber\" style = \"font-weight: bold; text-align: right;\">4</td><td style = \"text-align: left;\">consommation</td><td style = \"text-align: right;\">10.3568</td><td style = \"text-align: right;\">4.52327</td><td style = \"text-align: right;\">10.2265</td><td style = \"text-align: right;\">16.8007</td><td style = \"text-align: right;\">0</td><td style = \"text-align: left;\">Float64</td></tr><tr><td class = \"rowNumber\" style = \"font-weight: bold; text-align: right;\">5</td><td style = \"text-align: left;\">cylindree_squared</td><td style = \"text-align: right;\">9.88081</td><td style = \"text-align: right;\">1.44</td><td style = \"text-align: right;\">6.25</td><td style = \"text-align: right;\">46.24</td><td style = \"text-align: right;\">0</td><td style = \"text-align: left;\">Float64</td></tr><tr><td class = \"rowNumber\" style = \"font-weight: bold; text-align: right;\">6</td><td style = \"text-align: left;\">annee_squared</td><td style = \"text-align: right;\">4.07716e6</td><td style = \"text-align: right;\">4056196</td><td style = \"text-align: right;\">4.07636e6</td><td style = \"text-align: right;\">4096576</td><td style = \"text-align: right;\">0</td><td style = \"text-align: left;\">Int64</td></tr><tr><td class = \"rowNumber\" style = \"font-weight: bold; text-align: right;\">7</td><td style = \"text-align: left;\">log_cylindree</td><td style = \"text-align: right;\">0.98687</td><td style = \"text-align: right;\">0.182322</td><td style = \"text-align: right;\">0.916291</td><td style = \"text-align: right;\">1.91692</td><td style = \"text-align: right;\">0</td><td style = \"text-align: left;\">Float64</td></tr><tr><td class = \"rowNumber\" style = \"font-weight: bold; text-align: right;\">8</td><td style = \"text-align: left;\">cylindree_x_nombre_cylindres</td><td style = \"text-align: right;\">17.3306</td><td style = \"text-align: right;\">3.6</td><td style = \"text-align: right;\">10.0</td><td style = \"text-align: right;\">72.0</td><td style = \"text-align: right;\">0</td><td style = \"text-align: left;\">Float64</td></tr></tbody></table></div>"
      ],
      "text/latex": [
       "\\begin{tabular}{r|ccccccc}\n",
       "\t& variable & mean & min & median & max & nmissing & \\\\\n",
       "\t\\hline\n",
       "\t& Symbol & Float64 & Real & Float64 & Real & Int64 & \\\\\n",
       "\t\\hline\n",
       "\t1 & annee & 2019.19 & 2014 & 2019.0 & 2024 & 0 & $\\dots$ \\\\\n",
       "\t2 & nombre\\_cylindres & 5.28535 & 3 & 4.0 & 12 & 0 & $\\dots$ \\\\\n",
       "\t3 & cylindree & 2.90303 & 1.2 & 2.5 & 6.8 & 0 & $\\dots$ \\\\\n",
       "\t4 & consommation & 10.3568 & 4.52327 & 10.2265 & 16.8007 & 0 & $\\dots$ \\\\\n",
       "\t5 & cylindree\\_squared & 9.88081 & 1.44 & 6.25 & 46.24 & 0 & $\\dots$ \\\\\n",
       "\t6 & annee\\_squared & 4.07716e6 & 4056196 & 4.07636e6 & 4096576 & 0 & $\\dots$ \\\\\n",
       "\t7 & log\\_cylindree & 0.98687 & 0.182322 & 0.916291 & 1.91692 & 0 & $\\dots$ \\\\\n",
       "\t8 & cylindree\\_x\\_nombre\\_cylindres & 17.3306 & 3.6 & 10.0 & 72.0 & 0 & $\\dots$ \\\\\n",
       "\\end{tabular}\n"
      ],
      "text/plain": [
       "\u001b[1m8×7 DataFrame\u001b[0m\n",
       "\u001b[1m Row \u001b[0m│\u001b[1m variable                     \u001b[0m\u001b[1m mean         \u001b[0m\u001b[1m min            \u001b[0m\u001b[1m median     \u001b[0m ⋯\n",
       "     │\u001b[90m Symbol                       \u001b[0m\u001b[90m Float64      \u001b[0m\u001b[90m Real           \u001b[0m\u001b[90m Float64    \u001b[0m ⋯\n",
       "─────┼──────────────────────────────────────────────────────────────────────────\n",
       "   1 │ annee                         2019.19          2014         2019.0      ⋯\n",
       "   2 │ nombre_cylindres                 5.28535          3            4.0\n",
       "   3 │ cylindree                        2.90303          1.2          2.5\n",
       "   4 │ consommation                    10.3568           4.52327     10.2265\n",
       "   5 │ cylindree_squared                9.88081          1.44         6.25     ⋯\n",
       "   6 │ annee_squared                    4.07716e6  4056196            4.07636e\n",
       "   7 │ log_cylindree                    0.98687          0.182322     0.916291\n",
       "   8 │ cylindree_x_nombre_cylindres    17.3306           3.6         10.0\n",
       "\u001b[36m                                                               4 columns omitted\u001b[0m"
      ]
     },
     "execution_count": 475,
     "metadata": {},
     "output_type": "execute_result"
    }
   ],
   "source": [
    "println(\"\\nSummary statistics of the training dataset:\")\n",
    "describe(train_data)"
   ]
  },
  {
   "cell_type": "code",
   "execution_count": 476,
   "id": "7cee9516-db27-45a2-b93d-acf1e1eeae91",
   "metadata": {},
   "outputs": [
    {
     "name": "stdout",
     "output_type": "stream",
     "text": [
      "\n",
      "Checking for missing values in training data:\n",
      "Bool[0, 0, 0, 0, 0, 0, 0, 0]\n"
     ]
    }
   ],
   "source": [
    "println(\"\\nChecking for missing values in training data:\")\n",
    "println(any.(ismissing, eachcol(train_data)))"
   ]
  },
  {
   "cell_type": "code",
   "execution_count": 477,
   "id": "22b1d834-f5f1-44f1-89ed-03aef42fd3c8",
   "metadata": {},
   "outputs": [
    {
     "name": "stdout",
     "output_type": "stream",
     "text": [
      "\n",
      "Checking for missing values in test data:\n",
      "Bool[0, 0, 0, 0, 0, 0, 0]\n"
     ]
    }
   ],
   "source": [
    "println(\"\\nChecking for missing values in test data:\")\n",
    "println(any.(ismissing, eachcol(test_data)))"
   ]
  },
  {
   "cell_type": "code",
   "execution_count": 478,
   "id": "9fadc320-964b-452f-b3d3-b03631cd66ff",
   "metadata": {},
   "outputs": [
    {
     "data": {
      "text/plain": [
       "normalize_col! (generic function with 1 method)"
      ]
     },
     "execution_count": 478,
     "metadata": {},
     "output_type": "execute_result"
    }
   ],
   "source": [
    "function normalize_col!(df, col)\n",
    "    df[!, col] = (df[!, col] .- mean(df[!, col])) ./ std(df[!, col])\n",
    "end"
   ]
  },
  {
   "cell_type": "code",
   "execution_count": 479,
   "id": "acd0fd2a-73f0-40ce-8463-f6e4ab3303d4",
   "metadata": {},
   "outputs": [
    {
     "name": "stdout",
     "output_type": "stream",
     "text": [
      "Normalizing train column: annee\n",
      "Normalizing train column: nombre_cylindres\n",
      "Normalizing train column: cylindree\n",
      "Normalizing train column: cylindree_squared\n",
      "Normalizing train column: annee_squared\n",
      "Normalizing train column: log_cylindree\n",
      "Normalizing train column: cylindree_x_nombre_cylindres\n",
      "Normalizing test column: annee\n",
      "Normalizing test column: nombre_cylindres\n",
      "Normalizing test column: cylindree\n",
      "Normalizing test column: cylindree_squared\n",
      "Normalizing test column: annee_squared\n",
      "Normalizing test column: log_cylindree\n",
      "Normalizing test column: cylindree_x_nombre_cylindres\n"
     ]
    }
   ],
   "source": [
    "train_columns_to_normalize = [:annee, :nombre_cylindres, :cylindree, :cylindree_squared, :annee_squared, :log_cylindree, :cylindree_x_nombre_cylindres]\n",
    "\n",
    "test_columns_to_normalize = names(test_data)\n",
    "\n",
    "for col in train_columns_to_normalize\n",
    "    println(\"Normalizing train column: $col\")\n",
    "    normalize_col!(train_data, col)\n",
    "end\n",
    "\n",
    "for col in test_columns_to_normalize\n",
    "    println(\"Normalizing test column: $col\")\n",
    "    normalize_col!(test_data, col)\n",
    "end"
   ]
  },
  {
   "cell_type": "code",
   "execution_count": 480,
   "id": "c741c0e5-01ea-4c85-8124-9b8c076e6ed1",
   "metadata": {},
   "outputs": [
    {
     "data": {
      "text/html": [
       "<div><div style = \"float: left;\"><span>5×8 DataFrame</span></div><div style = \"clear: both;\"></div></div><div class = \"data-frame\" style = \"overflow-x: scroll;\"><table class = \"data-frame\" style = \"margin-bottom: 6px;\"><thead><tr class = \"header\"><th class = \"rowNumber\" style = \"font-weight: bold; text-align: right;\">Row</th><th style = \"text-align: left;\">annee</th><th style = \"text-align: left;\">nombre_cylindres</th><th style = \"text-align: left;\">cylindree</th><th style = \"text-align: left;\">consommation</th><th style = \"text-align: left;\">cylindree_squared</th><th style = \"text-align: left;\">annee_squared</th><th style = \"text-align: left;\">log_cylindree</th><th style = \"text-align: left;\">cylindree_x_nombre_cylindres</th></tr><tr class = \"subheader headerLastRow\"><th class = \"rowNumber\" style = \"font-weight: bold; text-align: right;\"></th><th title = \"Float64\" style = \"text-align: left;\">Float64</th><th title = \"Float64\" style = \"text-align: left;\">Float64</th><th title = \"Float64\" style = \"text-align: left;\">Float64</th><th title = \"Float64\" style = \"text-align: left;\">Float64</th><th title = \"Float64\" style = \"text-align: left;\">Float64</th><th title = \"Float64\" style = \"text-align: left;\">Float64</th><th title = \"Float64\" style = \"text-align: left;\">Float64</th><th title = \"Float64\" style = \"text-align: left;\">Float64</th></tr></thead><tbody><tr><td class = \"rowNumber\" style = \"font-weight: bold; text-align: right;\">1</td><td style = \"text-align: right;\">1.18235</td><td style = \"text-align: right;\">1.55182</td><td style = \"text-align: right;\">1.24022</td><td style = \"text-align: right;\">13.8359</td><td style = \"text-align: right;\">1.10244</td><td style = \"text-align: right;\">1.18275</td><td style = \"text-align: right;\">1.26218</td><td style = \"text-align: right;\">1.35681</td></tr><tr><td class = \"rowNumber\" style = \"font-weight: bold; text-align: right;\">2</td><td style = \"text-align: right;\">0.250279</td><td style = \"text-align: right;\">-0.734771</td><td style = \"text-align: right;\">-0.748147</td><td style = \"text-align: right;\">9.80042</td><td style = \"text-align: right;\">-0.683947</td><td style = \"text-align: right;\">0.249551</td><td style = \"text-align: right;\">-0.749349</td><td style = \"text-align: right;\">-0.708458</td></tr><tr><td class = \"rowNumber\" style = \"font-weight: bold; text-align: right;\">3</td><td style = \"text-align: right;\">0.560971</td><td style = \"text-align: right;\">0.408527</td><td style = \"text-align: right;\">0.328884</td><td style = \"text-align: right;\">11.7605</td><td style = \"text-align: right;\">0.117371</td><td style = \"text-align: right;\">0.560465</td><td style = \"text-align: right;\">0.528238</td><td style = \"text-align: right;\">0.187502</td></tr><tr><td class = \"rowNumber\" style = \"font-weight: bold; text-align: right;\">4</td><td style = \"text-align: right;\">1.18235</td><td style = \"text-align: right;\">1.55182</td><td style = \"text-align: right;\">1.73731</td><td style = \"text-align: right;\">13.0672</td><td style = \"text-align: right;\">1.75839</td><td style = \"text-align: right;\">1.18275</td><td style = \"text-align: right;\">1.58831</td><td style = \"text-align: right;\">1.72126</td></tr><tr><td class = \"rowNumber\" style = \"font-weight: bold; text-align: right;\">5</td><td style = \"text-align: right;\">0.871662</td><td style = \"text-align: right;\">1.55182</td><td style = \"text-align: right;\">1.24022</td><td style = \"text-align: right;\">13.8359</td><td style = \"text-align: right;\">1.10244</td><td style = \"text-align: right;\">0.871532</td><td style = \"text-align: right;\">1.26218</td><td style = \"text-align: right;\">1.35681</td></tr></tbody></table></div>"
      ],
      "text/latex": [
       "\\begin{tabular}{r|ccccccc}\n",
       "\t& annee & nombre\\_cylindres & cylindree & consommation & cylindree\\_squared & annee\\_squared & \\\\\n",
       "\t\\hline\n",
       "\t& Float64 & Float64 & Float64 & Float64 & Float64 & Float64 & \\\\\n",
       "\t\\hline\n",
       "\t1 & 1.18235 & 1.55182 & 1.24022 & 13.8359 & 1.10244 & 1.18275 & $\\dots$ \\\\\n",
       "\t2 & 0.250279 & -0.734771 & -0.748147 & 9.80042 & -0.683947 & 0.249551 & $\\dots$ \\\\\n",
       "\t3 & 0.560971 & 0.408527 & 0.328884 & 11.7605 & 0.117371 & 0.560465 & $\\dots$ \\\\\n",
       "\t4 & 1.18235 & 1.55182 & 1.73731 & 13.0672 & 1.75839 & 1.18275 & $\\dots$ \\\\\n",
       "\t5 & 0.871662 & 1.55182 & 1.24022 & 13.8359 & 1.10244 & 0.871532 & $\\dots$ \\\\\n",
       "\\end{tabular}\n"
      ],
      "text/plain": [
       "\u001b[1m5×8 DataFrame\u001b[0m\n",
       "\u001b[1m Row \u001b[0m│\u001b[1m annee    \u001b[0m\u001b[1m nombre_cylindres \u001b[0m\u001b[1m cylindree \u001b[0m\u001b[1m consommation \u001b[0m\u001b[1m cylindree_squared \u001b[0m\u001b[1m\u001b[0m ⋯\n",
       "     │\u001b[90m Float64  \u001b[0m\u001b[90m Float64          \u001b[0m\u001b[90m Float64   \u001b[0m\u001b[90m Float64      \u001b[0m\u001b[90m Float64           \u001b[0m\u001b[90m\u001b[0m ⋯\n",
       "─────┼──────────────────────────────────────────────────────────────────────────\n",
       "   1 │ 1.18235           1.55182    1.24022       13.8359            1.10244   ⋯\n",
       "   2 │ 0.250279         -0.734771  -0.748147       9.80042          -0.683947\n",
       "   3 │ 0.560971          0.408527   0.328884      11.7605            0.117371\n",
       "   4 │ 1.18235           1.55182    1.73731       13.0672            1.75839\n",
       "   5 │ 0.871662          1.55182    1.24022       13.8359            1.10244   ⋯\n",
       "\u001b[36m                                                               3 columns omitted\u001b[0m"
      ]
     },
     "execution_count": 480,
     "metadata": {},
     "output_type": "execute_result"
    }
   ],
   "source": [
    "first(train_data, 5)"
   ]
  },
  {
   "cell_type": "markdown",
   "id": "66e76124-fe6e-4e90-816f-07e18265aaba",
   "metadata": {},
   "source": [
    "### Ne pas rouler les deux prochaines cellules (pour plutard)"
   ]
  },
  {
   "cell_type": "code",
   "execution_count": 481,
   "id": "feaf4eb0-f469-4b6b-a348-613513467a06",
   "metadata": {},
   "outputs": [
    {
     "data": {
      "text/plain": [
       "train_val_split (generic function with 3 methods)"
      ]
     },
     "execution_count": 481,
     "metadata": {},
     "output_type": "execute_result"
    }
   ],
   "source": [
    "function train_val_split(data, val_ratio=0.2, seed=42)\n",
    "    Random.seed!(seed)  # Set seed for reproducibility\n",
    "    n = size(data, 1)  # Total number of rows\n",
    "    indices = shuffle(1:n)  # Shuffle row indices\n",
    "    \n",
    "    # Compute split index\n",
    "    split_idx = round(Int, (1 - val_ratio) * n)\n",
    "    \n",
    "    # Split data into training and validation sets\n",
    "    train_indices = indices[1:split_idx]\n",
    "    val_indices = indices[split_idx+1:end]\n",
    "    \n",
    "    train_set = data[train_indices, :]\n",
    "    val_set = data[val_indices, :]\n",
    "    \n",
    "    return train_set, val_set\n",
    "end"
   ]
  },
  {
   "cell_type": "code",
   "execution_count": 482,
   "id": "4b8c638f-39c9-4787-bc4f-f49c4cf3a5ed",
   "metadata": {},
   "outputs": [
    {
     "ename": "LoadError",
     "evalue": "MethodError: no method matching train_val_split(::DataFrame; val_ratio=0.2)\n\u001b[0mClosest candidates are:\n\u001b[0m  train_val_split(::Any) at In[481]:1\u001b[91m got unsupported keyword argument \"val_ratio\"\u001b[39m\n\u001b[0m  train_val_split(::Any, \u001b[91m::Any\u001b[39m) at In[481]:1\u001b[91m got unsupported keyword argument \"val_ratio\"\u001b[39m\n\u001b[0m  train_val_split(::Any, \u001b[91m::Any\u001b[39m, \u001b[91m::Any\u001b[39m) at In[481]:1\u001b[91m got unsupported keyword argument \"val_ratio\"\u001b[39m",
     "output_type": "error",
     "traceback": [
      "MethodError: no method matching train_val_split(::DataFrame; val_ratio=0.2)\n\u001b[0mClosest candidates are:\n\u001b[0m  train_val_split(::Any) at In[481]:1\u001b[91m got unsupported keyword argument \"val_ratio\"\u001b[39m\n\u001b[0m  train_val_split(::Any, \u001b[91m::Any\u001b[39m) at In[481]:1\u001b[91m got unsupported keyword argument \"val_ratio\"\u001b[39m\n\u001b[0m  train_val_split(::Any, \u001b[91m::Any\u001b[39m, \u001b[91m::Any\u001b[39m) at In[481]:1\u001b[91m got unsupported keyword argument \"val_ratio\"\u001b[39m",
      "",
      "Stacktrace:",
      " [1] top-level scope",
      "   @ In[482]:1"
     ]
    }
   ],
   "source": [
    "train_split, val_split = train_val_split(train_data, val_ratio=0.2)"
   ]
  },
  {
   "cell_type": "markdown",
   "id": "221f47d4-2049-4762-b6a3-55bc2f19ba0b",
   "metadata": {},
   "source": [
    "### --------------------------------------------------------------------------------------------------------------------------"
   ]
  },
  {
   "cell_type": "code",
   "execution_count": 483,
   "id": "0d2e78d6-7f40-442e-9b65-a04cbabc179c",
   "metadata": {},
   "outputs": [
    {
     "data": {
      "text/plain": [
       "150×7 Matrix{Float64}:\n",
       " -1.53728  -0.769722  -0.372358    …  -1.53609  -0.222061  -0.576919\n",
       " -1.53728  -0.769722  -0.372358       -1.53609  -0.222061  -0.576919\n",
       " -1.53728  -0.769722  -0.372358       -1.53609  -0.222061  -0.576919\n",
       " -1.53728  -0.769722  -0.739816       -1.53609  -0.753875  -0.713017\n",
       " -1.53728   1.45063    2.05287        -1.53609   1.78363    1.90006\n",
       " -1.53728   1.45063    1.46493     …  -1.53609   1.42991    1.46455\n",
       " -1.53728   1.45063    1.46493        -1.53609   1.42991    1.46455\n",
       " -1.53728  -0.769722  -0.44585        -1.53609  -0.319351  -0.604138\n",
       " -1.53728   0.340454   0.362559       -1.53609   0.579848   0.171619\n",
       " -1.53728   2.56081    1.61192        -1.53609   1.52338    2.28114\n",
       " -1.53728   2.56081    1.61192     …  -1.53609   1.52338    2.28114\n",
       " -1.53728   3.67098    2.12636        -1.53609   1.82437    3.56046\n",
       " -1.53728  -0.769722  -0.739816       -1.53609  -0.753875  -0.713017\n",
       "  ⋮                                ⋱             ⋮         \n",
       "  1.48798  -0.769722  -1.03378         1.48871  -1.28569   -0.821895\n",
       "  1.48798   0.340454   0.215576        1.48871   0.439614   0.0899607\n",
       "  1.82412   1.45063    1.46493     …   1.82563   1.42991    1.46455\n",
       "  1.82412  -0.769722  -0.739816        1.82563  -0.753875  -0.713017\n",
       "  1.82412  -0.769722  -0.739816        1.82563  -0.753875  -0.713017\n",
       "  1.82412  -0.769722  -1.03378         1.82563  -1.28569   -0.821895\n",
       "  1.82412  -0.769722  -0.739816        1.82563  -0.753875  -0.713017\n",
       "  1.82412  -0.769722  -0.739816    …   1.82563  -0.753875  -0.713017\n",
       "  1.82412   0.340454  -0.00489945      1.82563   0.212463  -0.0325274\n",
       "  1.82412   0.340454  -0.00489945      1.82563   0.212463  -0.0325274\n",
       "  1.82412  -1.32481   -1.10727         1.82563  -1.4395    -0.951188\n",
       "  1.82412  -0.769722  -0.739816        1.82563  -0.753875  -0.713017"
      ]
     },
     "execution_count": 483,
     "metadata": {},
     "output_type": "execute_result"
    }
   ],
   "source": [
    "X_train_full = Matrix(select(train_data, Not(:consommation)))\n",
    "y_train_full = train_data[:, :consommation]\n",
    "X_test = Matrix(test_data)"
   ]
  },
  {
   "cell_type": "code",
   "execution_count": 484,
   "id": "c34c50c6-3310-4b45-8c6c-5db8a14f09d7",
   "metadata": {},
   "outputs": [
    {
     "data": {
      "text/plain": [
       "bayesian_ridge_regression (generic function with 3 methods)"
      ]
     },
     "execution_count": 484,
     "metadata": {},
     "output_type": "execute_result"
    }
   ],
   "source": [
    "function bayesian_ridge_regression(X, y, alpha, lambda)\n",
    "    n, p = size(X)\n",
    "    I_matrix = Matrix(I, p, p)\n",
    "    Sigma = inv(X' * X + (alpha / lambda) * I_matrix)\n",
    "    mu = Sigma * X' * y\n",
    "    return mu, Sigma\n",
    "end"
   ]
  },
  {
   "cell_type": "code",
   "execution_count": 485,
   "id": "960aaee7-baf6-4c86-95d4-c1c0b6cec727",
   "metadata": {},
   "outputs": [
    {
     "data": {
      "text/plain": [
       "add_intercept (generic function with 1 method)"
      ]
     },
     "execution_count": 485,
     "metadata": {},
     "output_type": "execute_result"
    }
   ],
   "source": [
    "function add_intercept(X)\n",
    "    return hcat(ones(size(X, 1)), X)\n",
    "end"
   ]
  },
  {
   "cell_type": "code",
   "execution_count": 486,
   "id": "a6f50ee9-3984-43b4-96ed-44c6447dfe18",
   "metadata": {},
   "outputs": [
    {
     "data": {
      "text/plain": [
       "150×8 Matrix{Float64}:\n",
       " 1.0  -1.53728  -0.769722  -0.372358    …  -1.53609  -0.222061  -0.576919\n",
       " 1.0  -1.53728  -0.769722  -0.372358       -1.53609  -0.222061  -0.576919\n",
       " 1.0  -1.53728  -0.769722  -0.372358       -1.53609  -0.222061  -0.576919\n",
       " 1.0  -1.53728  -0.769722  -0.739816       -1.53609  -0.753875  -0.713017\n",
       " 1.0  -1.53728   1.45063    2.05287        -1.53609   1.78363    1.90006\n",
       " 1.0  -1.53728   1.45063    1.46493     …  -1.53609   1.42991    1.46455\n",
       " 1.0  -1.53728   1.45063    1.46493        -1.53609   1.42991    1.46455\n",
       " 1.0  -1.53728  -0.769722  -0.44585        -1.53609  -0.319351  -0.604138\n",
       " 1.0  -1.53728   0.340454   0.362559       -1.53609   0.579848   0.171619\n",
       " 1.0  -1.53728   2.56081    1.61192        -1.53609   1.52338    2.28114\n",
       " 1.0  -1.53728   2.56081    1.61192     …  -1.53609   1.52338    2.28114\n",
       " 1.0  -1.53728   3.67098    2.12636        -1.53609   1.82437    3.56046\n",
       " 1.0  -1.53728  -0.769722  -0.739816       -1.53609  -0.753875  -0.713017\n",
       " ⋮                                      ⋱   ⋮                   \n",
       " 1.0   1.48798  -0.769722  -1.03378         1.48871  -1.28569   -0.821895\n",
       " 1.0   1.48798   0.340454   0.215576        1.48871   0.439614   0.0899607\n",
       " 1.0   1.82412   1.45063    1.46493     …   1.82563   1.42991    1.46455\n",
       " 1.0   1.82412  -0.769722  -0.739816        1.82563  -0.753875  -0.713017\n",
       " 1.0   1.82412  -0.769722  -0.739816        1.82563  -0.753875  -0.713017\n",
       " 1.0   1.82412  -0.769722  -1.03378         1.82563  -1.28569   -0.821895\n",
       " 1.0   1.82412  -0.769722  -0.739816        1.82563  -0.753875  -0.713017\n",
       " 1.0   1.82412  -0.769722  -0.739816    …   1.82563  -0.753875  -0.713017\n",
       " 1.0   1.82412   0.340454  -0.00489945      1.82563   0.212463  -0.0325274\n",
       " 1.0   1.82412   0.340454  -0.00489945      1.82563   0.212463  -0.0325274\n",
       " 1.0   1.82412  -1.32481   -1.10727         1.82563  -1.4395    -0.951188\n",
       " 1.0   1.82412  -0.769722  -0.739816        1.82563  -0.753875  -0.713017"
      ]
     },
     "execution_count": 486,
     "metadata": {},
     "output_type": "execute_result"
    }
   ],
   "source": [
    "X_train_full = add_intercept(X_train_full)\n",
    "X_test = add_intercept(X_test)"
   ]
  },
  {
   "cell_type": "code",
   "execution_count": 487,
   "id": "ec08ea0f-31b0-417c-83a8-400d5ff9cbaf",
   "metadata": {},
   "outputs": [
    {
     "data": {
      "text/plain": [
       "rmse (generic function with 1 method)"
      ]
     },
     "execution_count": 487,
     "metadata": {},
     "output_type": "execute_result"
    }
   ],
   "source": [
    "function rmse(y_true, y_pred)\n",
    "    return sqrt(mean((y_true .- y_pred).^2))\n",
    "end"
   ]
  },
  {
   "cell_type": "code",
   "execution_count": 488,
   "id": "67577e1e-9518-40a5-bb8e-b56eead01b92",
   "metadata": {},
   "outputs": [
    {
     "data": {
      "text/plain": [
       "grid_search_lambda (generic function with 2 methods)"
      ]
     },
     "execution_count": 488,
     "metadata": {},
     "output_type": "execute_result"
    }
   ],
   "source": [
    "function grid_search_lambda(X, y, lambdas, alpha=1.0)\n",
    "    Random.seed!(42)\n",
    "    n = size(X, 1)\n",
    "    shuffle_indices = shuffle(1:n)\n",
    "    train_indices = shuffle_indices[1:round(Int, 0.8 * n)]\n",
    "    val_indices = shuffle_indices[round(Int, 0.8 * n)+1:end]\n",
    "    \n",
    "    X_train, X_val = X[train_indices, :], X[val_indices, :]\n",
    "    y_train, y_val = y[train_indices], y[val_indices]\n",
    "    \n",
    "    best_lambda = nothing\n",
    "    best_rmse = Inf\n",
    "    \n",
    "    for lambda in lambdas\n",
    "        weights, _ = bayesian_ridge_regression(X_train, y_train, alpha, lambda)\n",
    "        y_val_pred = X_val * weights\n",
    "        current_rmse = rmse(y_val, y_val_pred)\n",
    "        \n",
    "        println(\"Lambda: $lambda, Validation RMSE: $current_rmse\")\n",
    "        \n",
    "        if current_rmse < best_rmse\n",
    "            best_rmse = current_rmse\n",
    "            best_lambda = lambda\n",
    "        end\n",
    "    end\n",
    "    \n",
    "    return best_lambda, best_rmse\n",
    "end"
   ]
  },
  {
   "cell_type": "code",
   "execution_count": 489,
   "id": "8efee8ff-ee44-4ff0-8a35-af8b1f3234d4",
   "metadata": {},
   "outputs": [
    {
     "name": "stdout",
     "output_type": "stream",
     "text": [
      "Lambda: 0.001, Validation RMSE: 7.937504325040606\n",
      "Lambda: 0.01, Validation RMSE: 2.6235362347281965\n",
      "Lambda: 0.1, Validation RMSE: 0.904471676100136\n",
      "Lambda: 1.0, Validation RMSE: 0.853522053104985\n",
      "Lambda: 10.0, Validation RMSE: 0.8577469274709668\n",
      "Lambda: 100.0, Validation RMSE: 0.8680024584975009\n",
      "Lambda: 1000.0, Validation RMSE: 0.8694264565852825\n"
     ]
    },
    {
     "data": {
      "text/plain": [
       "(1.0, 0.853522053104985)"
      ]
     },
     "execution_count": 489,
     "metadata": {},
     "output_type": "execute_result"
    }
   ],
   "source": [
    "lambda_values = 10.0 .^ (-3:3)  # 0.001 à 1000\n",
    "best_lambda, best_rmse = grid_search_lambda(X_train_full, y_train, lambda_values)"
   ]
  },
  {
   "cell_type": "code",
   "execution_count": 490,
   "id": "621ea13a-49ba-46d9-b584-cb21c1fa5880",
   "metadata": {},
   "outputs": [
    {
     "name": "stdout",
     "output_type": "stream",
     "text": [
      "Best Lambda: 1.0, Best Validation RMSE: 0.853522053104985\n"
     ]
    }
   ],
   "source": [
    "println(\"Best Lambda: $best_lambda, Best Validation RMSE: $best_rmse\")"
   ]
  },
  {
   "cell_type": "code",
   "execution_count": 491,
   "id": "615b0c46-6946-4bab-8e7a-77f91b0542ff",
   "metadata": {},
   "outputs": [
    {
     "data": {
      "text/plain": [
       "([10.330713243212639, -0.03733339564915882, 0.5003837042462584, -0.3402720426078439, 0.13697892615428597, -0.010830104443310382, 1.2724296802188235, 0.32585206973898045], [0.0025188916876574307 -2.3291916895483433e-14 … -5.337265300495235e-17 7.674454250901745e-18; -2.329191689548344e-14 0.5006308879002168 … 0.0013446657220853452 0.0007385451335859085; … ; -5.3372653004938805e-17 0.0013446657220850412 … 0.16257729416520716 0.06113710282925697; 7.674454250828926e-18 0.0007385451335874677 … 0.061137102829258175 0.2786957340061925])"
      ]
     },
     "execution_count": 491,
     "metadata": {},
     "output_type": "execute_result"
    }
   ],
   "source": [
    "weights, _ = bayesian_ridge_regression(X_train_full, y_train, 1.0, best_lambda)"
   ]
  },
  {
   "cell_type": "code",
   "execution_count": 492,
   "id": "deebb0e4-35f9-4d6b-9118-2f4c889dbc4e",
   "metadata": {},
   "outputs": [
    {
     "data": {
      "text/plain": [
       "predict (generic function with 1 method)"
      ]
     },
     "execution_count": 492,
     "metadata": {},
     "output_type": "execute_result"
    }
   ],
   "source": [
    "function predict(X, weights)\n",
    "    return X * weights\n",
    "end"
   ]
  },
  {
   "cell_type": "code",
   "execution_count": 493,
   "id": "99d7bece-60d8-4dff-8a2e-d4db933b0b46",
   "metadata": {},
   "outputs": [
    {
     "data": {
      "text/plain": [
       "150-element Vector{Float64}:\n",
       "  9.613132669680718\n",
       "  9.613132669680718\n",
       "  9.613132669680718\n",
       "  8.986694097962474\n",
       " 13.628597287744025\n",
       " 13.119796092522813\n",
       " 13.119796092522813\n",
       "  9.498848057404205\n",
       " 11.264008046993158\n",
       " 14.037911932852102\n",
       " 14.037911932852102\n",
       " 15.32332479515742\n",
       "  8.986694097962474\n",
       "  ⋮\n",
       "  8.209370561809433\n",
       " 10.944880431908869\n",
       " 12.95789552469071\n",
       "  8.824793530130368\n",
       "  8.824793530130368\n",
       "  8.19317239036207\n",
       "  8.824793530130368\n",
       "  8.824793530130368\n",
       " 10.649195317095266\n",
       " 10.649195317095266\n",
       "  7.698382586653902\n",
       "  8.824793530130368"
      ]
     },
     "execution_count": 493,
     "metadata": {},
     "output_type": "execute_result"
    }
   ],
   "source": [
    "y_test_pred = predict(X_test, weights)"
   ]
  },
  {
   "cell_type": "code",
   "execution_count": 494,
   "id": "89f6bc14-5bbf-4895-8359-a5b13c1878ad",
   "metadata": {},
   "outputs": [
    {
     "name": "stdout",
     "output_type": "stream",
     "text": [
      "Predictions have been saved to 'final_predictions.csv'\n"
     ]
    }
   ],
   "source": [
    "output = DataFrame(id = 1:size(y_test_pred, 1), consommation = y_test_pred)\n",
    "CSV.write(\"final_predictions.csv\", output)\n",
    "println(\"Predictions have been saved to 'final_predictions.csv'\")"
   ]
  },
  {
   "cell_type": "code",
   "execution_count": null,
   "id": "f3e5fda5-0fe3-4377-9a83-7eb39387ef6b",
   "metadata": {},
   "outputs": [],
   "source": []
  }
 ],
 "metadata": {
  "kernelspec": {
   "display_name": "Julia 1.6.7",
   "language": "julia",
   "name": "julia-1.6"
  },
  "language_info": {
   "file_extension": ".jl",
   "mimetype": "application/julia",
   "name": "julia",
   "version": "1.6.7"
  }
 },
 "nbformat": 4,
 "nbformat_minor": 5
}
