{
 "cells": [
  {
   "cell_type": "markdown",
   "id": "49be2440-1836-4a29-a11d-ce569ee1f8b2",
   "metadata": {},
   "source": [
    "# Prédiction de la consommation en carburant de voitures récentes.\r\n"
   ]
  },
  {
   "cell_type": "markdown",
   "id": "426b2b3c-3057-47f4-b1c8-5b1013397db5",
   "metadata": {},
   "source": [
    "### Importation de librairies"
   ]
  },
  {
   "cell_type": "code",
   "execution_count": 43,
   "id": "2236a02f-0184-403d-bd68-d2a81523b773",
   "metadata": {},
   "outputs": [],
   "source": [
    "using CSV              # Pour charger les fichiers CSV\n",
    "using DataFrames       # Pour utiliser la structure DataFrame pour stocker les données\n",
    "using Distributions    # Pour utiliser les lois de probabilités classiques\n",
    "using Gadfly           # Pour tracer des graphiques\n",
    "using Statistics       # Pour les functions statistiques de base\n",
    "using MLJ"
   ]
  },
  {
   "cell_type": "markdown",
   "id": "1ba32d51-05e2-46f8-a49a-9fc5b0b8b2d0",
   "metadata": {},
   "source": [
    "### Chargement des données train et test"
   ]
  },
  {
   "cell_type": "code",
   "execution_count": 44,
   "id": "c6d8a876-e769-4776-8140-9ff055141cf4",
   "metadata": {},
   "outputs": [],
   "source": [
    "train_data = CSV.read(\"train.csv\", DataFrame);\n",
    "test_data = CSV.read(\"test.csv\", DataFrame);"
   ]
  },
  {
   "cell_type": "code",
   "execution_count": 45,
   "id": "23a6080b-af00-4046-815c-54e3ffd4001c",
   "metadata": {},
   "outputs": [
    {
     "data": {
      "text/html": [
       "<div><div style = \"float: left;\"><span>5×7 DataFrame</span></div><div style = \"clear: both;\"></div></div><div class = \"data-frame\" style = \"overflow-x: scroll;\"><table class = \"data-frame\" style = \"margin-bottom: 6px;\"><thead><tr class = \"header\"><th class = \"rowNumber\" style = \"font-weight: bold; text-align: right;\">Row</th><th style = \"text-align: left;\">annee</th><th style = \"text-align: left;\">type</th><th style = \"text-align: left;\">nombre_cylindres</th><th style = \"text-align: left;\">cylindree</th><th style = \"text-align: left;\">transmission</th><th style = \"text-align: left;\">boite</th><th style = \"text-align: left;\">consommation</th></tr><tr class = \"subheader headerLastRow\"><th class = \"rowNumber\" style = \"font-weight: bold; text-align: right;\"></th><th title = \"Int64\" style = \"text-align: left;\">Int64</th><th title = \"String31\" style = \"text-align: left;\">String31</th><th title = \"Int64\" style = \"text-align: left;\">Int64</th><th title = \"String3\" style = \"text-align: left;\">String3</th><th title = \"String15\" style = \"text-align: left;\">String15</th><th title = \"String15\" style = \"text-align: left;\">String15</th><th title = \"String31\" style = \"text-align: left;\">String31</th></tr></thead><tbody><tr><td class = \"rowNumber\" style = \"font-weight: bold; text-align: right;\">1</td><td style = \"text-align: right;\">2023</td><td style = \"text-align: left;\">voiture_moyenne</td><td style = \"text-align: right;\">8</td><td style = \"text-align: left;\">4,4</td><td style = \"text-align: left;\">integrale</td><td style = \"text-align: left;\">automatique</td><td style = \"text-align: left;\">13,8358823529412</td></tr><tr><td class = \"rowNumber\" style = \"font-weight: bold; text-align: right;\">2</td><td style = \"text-align: right;\">2020</td><td style = \"text-align: left;\">VUS_petit</td><td style = \"text-align: right;\">4</td><td style = \"text-align: left;\">2</td><td style = \"text-align: left;\">integrale</td><td style = \"text-align: left;\">automatique</td><td style = \"text-align: left;\">9,80041666666667</td></tr><tr><td class = \"rowNumber\" style = \"font-weight: bold; text-align: right;\">3</td><td style = \"text-align: right;\">2021</td><td style = \"text-align: left;\">voiture_compacte</td><td style = \"text-align: right;\">6</td><td style = \"text-align: left;\">3,3</td><td style = \"text-align: left;\">propulsion</td><td style = \"text-align: left;\">automatique</td><td style = \"text-align: left;\">11,7605</td></tr><tr><td class = \"rowNumber\" style = \"font-weight: bold; text-align: right;\">4</td><td style = \"text-align: right;\">2023</td><td style = \"text-align: left;\">voiture_deux_places</td><td style = \"text-align: right;\">8</td><td style = \"text-align: left;\">5</td><td style = \"text-align: left;\">integrale</td><td style = \"text-align: left;\">automatique</td><td style = \"text-align: left;\">13,0672222222222</td></tr><tr><td class = \"rowNumber\" style = \"font-weight: bold; text-align: right;\">5</td><td style = \"text-align: right;\">2022</td><td style = \"text-align: left;\">voiture_moyenne</td><td style = \"text-align: right;\">8</td><td style = \"text-align: left;\">4,4</td><td style = \"text-align: left;\">integrale</td><td style = \"text-align: left;\">automatique</td><td style = \"text-align: left;\">13,8358823529412</td></tr></tbody></table></div>"
      ],
      "text/latex": [
       "\\begin{tabular}{r|ccccccc}\n",
       "\t& annee & type & nombre\\_cylindres & cylindree & transmission & boite & \\\\\n",
       "\t\\hline\n",
       "\t& Int64 & String31 & Int64 & String3 & String15 & String15 & \\\\\n",
       "\t\\hline\n",
       "\t1 & 2023 & voiture\\_moyenne & 8 & 4,4 & integrale & automatique & $\\dots$ \\\\\n",
       "\t2 & 2020 & VUS\\_petit & 4 & 2 & integrale & automatique & $\\dots$ \\\\\n",
       "\t3 & 2021 & voiture\\_compacte & 6 & 3,3 & propulsion & automatique & $\\dots$ \\\\\n",
       "\t4 & 2023 & voiture\\_deux\\_places & 8 & 5 & integrale & automatique & $\\dots$ \\\\\n",
       "\t5 & 2022 & voiture\\_moyenne & 8 & 4,4 & integrale & automatique & $\\dots$ \\\\\n",
       "\\end{tabular}\n"
      ],
      "text/plain": [
       "\u001b[1m5×7 DataFrame\u001b[0m\n",
       "\u001b[1m Row \u001b[0m│\u001b[1m annee \u001b[0m\u001b[1m type                \u001b[0m\u001b[1m nombre_cylindres \u001b[0m\u001b[1m cylindree \u001b[0m\u001b[1m transmission \u001b[0m\u001b[1m \u001b[0m ⋯\n",
       "     │\u001b[90m Int64 \u001b[0m\u001b[90m String31            \u001b[0m\u001b[90m Int64            \u001b[0m\u001b[90m String3   \u001b[0m\u001b[90m String15     \u001b[0m\u001b[90m \u001b[0m ⋯\n",
       "─────┼──────────────────────────────────────────────────────────────────────────\n",
       "   1 │  2023  voiture_moyenne                     8  4,4        integrale      ⋯\n",
       "   2 │  2020  VUS_petit                           4  2          integrale\n",
       "   3 │  2021  voiture_compacte                    6  3,3        propulsion\n",
       "   4 │  2023  voiture_deux_places                 8  5          integrale\n",
       "   5 │  2022  voiture_moyenne                     8  4,4        integrale      ⋯\n",
       "\u001b[36m                                                               2 columns omitted\u001b[0m"
      ]
     },
     "execution_count": 45,
     "metadata": {},
     "output_type": "execute_result"
    }
   ],
   "source": [
    "first(train_data, 5)"
   ]
  },
  {
   "cell_type": "code",
   "execution_count": 46,
   "id": "519570ac-4186-4e5c-ad50-f26aad33429f",
   "metadata": {},
   "outputs": [
    {
     "data": {
      "text/html": [
       "<div><div style = \"float: left;\"><span>5×6 DataFrame</span></div><div style = \"clear: both;\"></div></div><div class = \"data-frame\" style = \"overflow-x: scroll;\"><table class = \"data-frame\" style = \"margin-bottom: 6px;\"><thead><tr class = \"header\"><th class = \"rowNumber\" style = \"font-weight: bold; text-align: right;\">Row</th><th style = \"text-align: left;\">annee</th><th style = \"text-align: left;\">type</th><th style = \"text-align: left;\">nombre_cylindres</th><th style = \"text-align: left;\">cylindree</th><th style = \"text-align: left;\">transmission</th><th style = \"text-align: left;\">boite</th></tr><tr class = \"subheader headerLastRow\"><th class = \"rowNumber\" style = \"font-weight: bold; text-align: right;\"></th><th title = \"Int64\" style = \"text-align: left;\">Int64</th><th title = \"String31\" style = \"text-align: left;\">String31</th><th title = \"Int64\" style = \"text-align: left;\">Int64</th><th title = \"String3\" style = \"text-align: left;\">String3</th><th title = \"String15\" style = \"text-align: left;\">String15</th><th title = \"String15\" style = \"text-align: left;\">String15</th></tr></thead><tbody><tr><td class = \"rowNumber\" style = \"font-weight: bold; text-align: right;\">1</td><td style = \"text-align: right;\">2014</td><td style = \"text-align: left;\">voiture_moyenne</td><td style = \"text-align: right;\">4</td><td style = \"text-align: left;\">2,5</td><td style = \"text-align: left;\">traction</td><td style = \"text-align: left;\">manuelle</td></tr><tr><td class = \"rowNumber\" style = \"font-weight: bold; text-align: right;\">2</td><td style = \"text-align: right;\">2014</td><td style = \"text-align: left;\">voiture_moyenne</td><td style = \"text-align: right;\">4</td><td style = \"text-align: left;\">2,5</td><td style = \"text-align: left;\">traction</td><td style = \"text-align: left;\">automatique</td></tr><tr><td class = \"rowNumber\" style = \"font-weight: bold; text-align: right;\">3</td><td style = \"text-align: right;\">2014</td><td style = \"text-align: left;\">VUS_petit</td><td style = \"text-align: right;\">4</td><td style = \"text-align: left;\">2,5</td><td style = \"text-align: left;\">traction</td><td style = \"text-align: left;\">automatique</td></tr><tr><td class = \"rowNumber\" style = \"font-weight: bold; text-align: right;\">4</td><td style = \"text-align: right;\">2014</td><td style = \"text-align: left;\">VUS_petit</td><td style = \"text-align: right;\">4</td><td style = \"text-align: left;\">2</td><td style = \"text-align: left;\">4x4</td><td style = \"text-align: left;\">automatique</td></tr><tr><td class = \"rowNumber\" style = \"font-weight: bold; text-align: right;\">5</td><td style = \"text-align: right;\">2014</td><td style = \"text-align: left;\">voiture_sous_compacte</td><td style = \"text-align: right;\">8</td><td style = \"text-align: left;\">5,8</td><td style = \"text-align: left;\">propulsion</td><td style = \"text-align: left;\">manuelle</td></tr></tbody></table></div>"
      ],
      "text/latex": [
       "\\begin{tabular}{r|cccccc}\n",
       "\t& annee & type & nombre\\_cylindres & cylindree & transmission & boite\\\\\n",
       "\t\\hline\n",
       "\t& Int64 & String31 & Int64 & String3 & String15 & String15\\\\\n",
       "\t\\hline\n",
       "\t1 & 2014 & voiture\\_moyenne & 4 & 2,5 & traction & manuelle \\\\\n",
       "\t2 & 2014 & voiture\\_moyenne & 4 & 2,5 & traction & automatique \\\\\n",
       "\t3 & 2014 & VUS\\_petit & 4 & 2,5 & traction & automatique \\\\\n",
       "\t4 & 2014 & VUS\\_petit & 4 & 2 & 4x4 & automatique \\\\\n",
       "\t5 & 2014 & voiture\\_sous\\_compacte & 8 & 5,8 & propulsion & manuelle \\\\\n",
       "\\end{tabular}\n"
      ],
      "text/plain": [
       "\u001b[1m5×6 DataFrame\u001b[0m\n",
       "\u001b[1m Row \u001b[0m│\u001b[1m annee \u001b[0m\u001b[1m type                  \u001b[0m\u001b[1m nombre_cylindres \u001b[0m\u001b[1m cylindree \u001b[0m\u001b[1m transmission\u001b[0m ⋯\n",
       "     │\u001b[90m Int64 \u001b[0m\u001b[90m String31              \u001b[0m\u001b[90m Int64            \u001b[0m\u001b[90m String3   \u001b[0m\u001b[90m String15    \u001b[0m ⋯\n",
       "─────┼──────────────────────────────────────────────────────────────────────────\n",
       "   1 │  2014  voiture_moyenne                       4  2,5        traction     ⋯\n",
       "   2 │  2014  voiture_moyenne                       4  2,5        traction\n",
       "   3 │  2014  VUS_petit                             4  2,5        traction\n",
       "   4 │  2014  VUS_petit                             4  2          4x4\n",
       "   5 │  2014  voiture_sous_compacte                 8  5,8        propulsion   ⋯\n",
       "\u001b[36m                                                                1 column omitted\u001b[0m"
      ]
     },
     "execution_count": 46,
     "metadata": {},
     "output_type": "execute_result"
    }
   ],
   "source": [
    "first(test_data, 5)"
   ]
  },
  {
   "cell_type": "code",
   "execution_count": null,
   "id": "9bdb2388-d04f-462a-8c83-822938d7496d",
   "metadata": {},
   "outputs": [],
   "source": []
  }
 ],
 "metadata": {
  "kernelspec": {
   "display_name": "Julia 1.10.4",
   "language": "julia",
   "name": "julia-1.10"
  },
  "language_info": {
   "file_extension": ".jl",
   "mimetype": "application/julia",
   "name": "julia",
   "version": "1.10.4"
  }
 },
 "nbformat": 4,
 "nbformat_minor": 5
}
